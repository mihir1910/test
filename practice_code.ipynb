{
 "cells": [
  {
   "cell_type": "code",
   "execution_count": 1,
   "id": "4c74f93c",
   "metadata": {},
   "outputs": [
    {
     "name": "stdout",
     "output_type": "stream",
     "text": [
      "6\n",
      "4\n"
     ]
    }
   ],
   "source": [
    "#factor\n",
    "n=int(input())\n",
    "f=0\n",
    "for i in range(1,n+1):\n",
    "    if n%i==0:\n",
    "        f+=1\n",
    "print(f)\n",
    "        "
   ]
  },
  {
   "cell_type": "code",
   "execution_count": 34,
   "id": "99eaeb0b",
   "metadata": {},
   "outputs": [
    {
     "name": "stdout",
     "output_type": "stream",
     "text": [
      "10\n",
      "0\n"
     ]
    }
   ],
   "source": [
    "#prime\n",
    "num =int(input())\n",
    "flag = False\n",
    "\n",
    "if num == 1:\n",
    "    print(0)\n",
    "elif num > 1:\n",
    "    \n",
    "    for i in range(2, num):\n",
    "        if (num % i) == 0:\n",
    "        \n",
    "            flag = True\n",
    "      \n",
    "            break\n",
    "\n",
    " \n",
    "    if flag:\n",
    "        print(0)\n",
    "    else:\n",
    "        print(1)"
   ]
  },
  {
   "cell_type": "code",
   "execution_count": 1,
   "id": "22eba040",
   "metadata": {},
   "outputs": [
    {
     "name": "stdout",
     "output_type": "stream",
     "text": [
      "4\n",
      "0\n"
     ]
    }
   ],
   "source": [
    "#Factor\n",
    "a=int(input())\n",
    "if(a==1):\n",
    "    print(0)\n",
    "sums=1\n",
    "for i in range(2,a):\n",
    "    if i*i<=a:\n",
    "        if(a%i==0):\n",
    "            sums+=i+(a/i)\n",
    "if sums==a:\n",
    "    print(1)\n",
    "else:\n",
    "    print(0)"
   ]
  },
  {
   "cell_type": "code",
   "execution_count": 13,
   "id": "30c09367",
   "metadata": {},
   "outputs": [
    {
     "name": "stdout",
     "output_type": "stream",
     "text": [
      "9\n",
      "4\n"
     ]
    }
   ],
   "source": [
    "n=int(input())\n",
    "ctr = 0\n",
    "for num in range(n+1):\n",
    "    if num <= 1:\n",
    "        continue\n",
    "    for i in range(2, num):\n",
    "        if (num % i) == 0:\n",
    "            break\n",
    "    else:\n",
    "        ctr += 1\n",
    "\n",
    "print(ctr)\n"
   ]
  },
  {
   "cell_type": "code",
   "execution_count": 1,
   "id": "de719582",
   "metadata": {},
   "outputs": [
    {
     "data": {
      "text/plain": [
       "8"
      ]
     },
     "execution_count": 1,
     "metadata": {},
     "output_type": "execute_result"
    }
   ],
   "source": [
    "def fac(n):\n",
    "    cnt=0\n",
    "    if n<=0:\n",
    "        return 0\n",
    "    for i in range(1,int(n**0.5)+1):\n",
    "        if n%i==0:\n",
    "            if i==n//i:\n",
    "                cnt+=1\n",
    "            else:\n",
    "                cnt+=2\n",
    "    return cnt\n",
    "fac(24)                "
   ]
  },
  {
   "cell_type": "code",
   "execution_count": 2,
   "id": "c7ebd11e",
   "metadata": {},
   "outputs": [
    {
     "data": {
      "text/plain": [
       "0"
      ]
     },
     "execution_count": 2,
     "metadata": {},
     "output_type": "execute_result"
    }
   ],
   "source": [
    "def Primes(n):\n",
    "    if n<=1:\n",
    "        return 0\n",
    "    else:\n",
    "        pass\n",
    "    if n<=3:\n",
    "        return 1\n",
    "    else:\n",
    "        pass\n",
    "    \n",
    "    if n%2==0 or n%3==0:\n",
    "        return 0\n",
    "    i=5\n",
    "    while(i*i<=n):\n",
    "        if n%i==0 or n%(i+2)==0:\n",
    "            return 0\n",
    "        i+=6\n",
    "    return 1\n",
    "\n",
    "Primes(22)"
   ]
  },
  {
   "cell_type": "markdown",
   "id": "ec848004",
   "metadata": {},
   "source": [
    "## Python Day 6"
   ]
  },
  {
   "cell_type": "code",
   "execution_count": 26,
   "id": "cb724fa4",
   "metadata": {},
   "outputs": [
    {
     "name": "stdout",
     "output_type": "stream",
     "text": [
      "2\n"
     ]
    }
   ],
   "source": [
    "A=[3,1,2]\n",
    "c=0\n",
    "for i in range(len(A)):\n",
    "   \n",
    "    for j in range(len(A)):\n",
    "        if A[j]>A[i]:\n",
    "                c+=1\n",
    "                break\n",
    "    \n",
    "print(c)"
   ]
  },
  {
   "cell_type": "code",
   "execution_count": 25,
   "id": "e1057d92",
   "metadata": {},
   "outputs": [
    {
     "name": "stdout",
     "output_type": "stream",
     "text": [
      "[5, 1, 2, 3, 4]\n"
     ]
    }
   ],
   "source": [
    "#Rotate array 1 times using for loop\n",
    "a=[1,2,3,4,5]\n",
    "n=len(a)\n",
    "k=2\n",
    "k%=n\n",
    "# for j in range(k):\n",
    "temp=a[n-1]\n",
    "for i in range(n-1,0,-1):\n",
    "        a[i]=a[i-1]\n",
    "a[0]=temp\n",
    "print(a)\n"
   ]
  },
  {
   "cell_type": "code",
   "execution_count": 3,
   "id": "1e6f7e2f",
   "metadata": {},
   "outputs": [
    {
     "name": "stdout",
     "output_type": "stream",
     "text": [
      "[3, 4, 5, 1, 2]\n"
     ]
    }
   ],
   "source": [
    "#Rotate arrray K times using while loop\n",
    "a=[1,2,3,4,5]\n",
    "n=len(a)\n",
    "k=3\n",
    "i=0\n",
    "j=n-1\n",
    "\n",
    "while(i<j):\n",
    "    temp=a[i]\n",
    "    a[i]=a[j]\n",
    "    a[j]=temp\n",
    "    i+=1\n",
    "    j-=1\n",
    "i=0\n",
    "j=k-1\n",
    "while(i<j):\n",
    "    temp=a[i]\n",
    "    a[i]=a[j]\n",
    "    a[j]=temp\n",
    "    i+=1\n",
    "    j-=1\n",
    "    \n",
    "i=k\n",
    "j=n-1\n",
    "while(i<j):\n",
    "    temp=a[i]\n",
    "    a[i]=a[j]\n",
    "    a[j]=temp\n",
    "    i+=1\n",
    "    j-=1\n",
    "print(a)"
   ]
  },
  {
   "cell_type": "code",
   "execution_count": 2,
   "id": "cc21a255",
   "metadata": {},
   "outputs": [
    {
     "name": "stdout",
     "output_type": "stream",
     "text": [
      "[7, 1, 2, 3, 4, 5, 6]\n"
     ]
    }
   ],
   "source": [
    "#Rotate array k times using function \n",
    "def reverse(arr,start,end):\n",
    "    while(start<end):\n",
    "        t=arr[start]\n",
    "        arr[start]=arr[end]\n",
    "        arr[end]=t\n",
    "        start+=1\n",
    "        end-=1\n",
    "def rotate(arr,k):\n",
    "    n=len(arr)\n",
    "    k%=n\n",
    "    reverse(arr,0,n-1)\n",
    "    reverse(arr,0,k-1)\n",
    "    reverse(arr,k,n-1)\n",
    "arr=[1,2,3,4,5,6,7]\n",
    "k=1\n",
    "(rotate(arr,k))\n",
    "print(arr)"
   ]
  },
  {
   "cell_type": "code",
   "execution_count": 7,
   "id": "c4d8b1ea",
   "metadata": {},
   "outputs": [
    {
     "name": "stdout",
     "output_type": "stream",
     "text": [
      "[5, 1, 2, 3, 4]\n"
     ]
    }
   ],
   "source": [
    "#rotate array 1 time using while loop\n",
    "a=[1,2,3,4,5]\n",
    "n=len(a)\n",
    "t=a[n-1]\n",
    "i=n-1\n",
    "while(i>0):\n",
    "    a[i]=a[i-1]\n",
    "    i-=1\n",
    "a[0]=t\n",
    "print(a)"
   ]
  },
  {
   "cell_type": "code",
   "execution_count": null,
   "id": "9e9b30f2",
   "metadata": {},
   "outputs": [],
   "source": []
  },
  {
   "cell_type": "markdown",
   "id": "b3b52cf4",
   "metadata": {},
   "source": [
    "## Python Day 7"
   ]
  },
  {
   "cell_type": "code",
   "execution_count": 11,
   "id": "84fdaf4b",
   "metadata": {},
   "outputs": [
    {
     "data": {
      "text/plain": [
       "[10, 5]"
      ]
     },
     "execution_count": 11,
     "metadata": {},
     "output_type": "execute_result"
    }
   ],
   "source": [
    "#find sum for the given queries\n",
    "def query(A,B):\n",
    "    n=len(A)\n",
    "    \n",
    "    \n",
    "    res=[]\n",
    "    p_sum=[0]*n\n",
    "    p_sum[0]=A[0]\n",
    "    for i in range(1,n):\n",
    "        p_sum[i]=p_sum[i-1]+A[i]\n",
    "    for i in B:\n",
    "        L,R=i\n",
    "        if L==0:\n",
    "            q_sum=p_sum[R]\n",
    "        else:\n",
    "            q_sum=p_sum[R]-p_sum[L-1]\n",
    "        res.append(q_sum)\n",
    "    return res\n",
    "\n",
    "query([1,2,3,4,5],[[0,3],[1,2]])\n",
    "     \n"
   ]
  },
  {
   "cell_type": "code",
   "execution_count": 15,
   "id": "9d990738",
   "metadata": {},
   "outputs": [
    {
     "name": "stdout",
     "output_type": "stream",
     "text": [
      "3\n"
     ]
    }
   ],
   "source": [
    "#special indexing\n",
    "def solve(A):\n",
    "    n=len(A)\n",
    "    even_sum=[0]\n",
    "    odd_sum=[0]\n",
    "    for i in range(n):\n",
    "        if i%2==0:\n",
    "            even_sum.append(even_sum[-1]+A[i])\n",
    "            odd_sum.append(odd_sum[-1])\n",
    "\n",
    "        else:\n",
    "            odd_sum.append(odd_sum[-1]+A[i])\n",
    "            even_sum.append(even_sum[-1])\n",
    "\n",
    "    ans=0\n",
    "    for i in range(n):\n",
    "        new_even=even_sum[i]+odd_sum[-1]-odd_sum[i+1]\n",
    "        new_odd=odd_sum[i]+even_sum[-1]-even_sum[i+1]\n",
    "        if new_even==new_odd:\n",
    "            ans+=1\n",
    "               \n",
    "    return ans\n",
    "\n",
    "A=[1,1,1]\n",
    "ans=solve(A)\n",
    "print(ans)\n",
    "\n"
   ]
  },
  {
   "cell_type": "code",
   "execution_count": 43,
   "id": "4f660096",
   "metadata": {},
   "outputs": [
    {
     "name": "stdout",
     "output_type": "stream",
     "text": [
      "4\n",
      "-1\n"
     ]
    }
   ],
   "source": [
    "nums =[4,5,6,7,0,1,2]\n",
    "target=0\n",
    "for i in range(len(nums)):\n",
    "    if nums[i]==target:\n",
    "        print(i)\n",
    "print(-1)\n",
    "    "
   ]
  },
  {
   "cell_type": "code",
   "execution_count": 5,
   "id": "e0d594ee",
   "metadata": {},
   "outputs": [
    {
     "data": {
      "text/plain": [
       "3"
      ]
     },
     "execution_count": 5,
     "metadata": {},
     "output_type": "execute_result"
    }
   ],
   "source": [
    "#equilbriuum \n",
    "def solve(A):\n",
    "    sums=0\n",
    "    l_sum=0\n",
    "    n=len(A)\n",
    "    sums=sum(A)\n",
    "    for i in range(n):\n",
    "        sums-=A[i]\n",
    "        if(l_sum==sums):\n",
    "            return A[i]\n",
    "            l_sum+=A[i]\n",
    "    print(-1)\n",
    "\n",
    "solve([1,2,3,7,1,2,3])   "
   ]
  },
  {
   "cell_type": "code",
   "execution_count": 3,
   "id": "96010eb1",
   "metadata": {},
   "outputs": [
    {
     "data": {
      "text/plain": [
       "3"
      ]
     },
     "execution_count": 3,
     "metadata": {},
     "output_type": "execute_result"
    }
   ],
   "source": [
    "#equilbrium\n",
    "def solve(A):\n",
    "        n=len(A)\n",
    "        l_sum=[0]*n\n",
    "        r_sum=[0]*n\n",
    "        l_sum[0]=0\n",
    "        for i in range(1,n):\n",
    "            l_sum[i]=l_sum[i-1]+A[i-1]\n",
    "        r_sum[n-1]=0\n",
    "        for i in range(n-2,-1,-1):\n",
    "            r_sum[i]=r_sum[i+1]+A[i+1]\n",
    "\n",
    "        index=-1\n",
    "        for i in range(n):\n",
    "            if l_sum[i]==r_sum[i]:\n",
    "                index=i\n",
    "                return index\n",
    "        return -1\n",
    "    \n",
    "solve([8,8,3,7,8,2,7,2])"
   ]
  },
  {
   "cell_type": "code",
   "execution_count": 2,
   "id": "11d9bc01",
   "metadata": {},
   "outputs": [
    {
     "name": "stdout",
     "output_type": "stream",
     "text": [
      "[1, 3, 6, 10, 15]\n"
     ]
    }
   ],
   "source": [
    "#prefix sum in O(n) and SC-O(1)\n",
    "A=[1,2,3,4,5]\n",
    "for i in range(1,len(A)):\n",
    "    A[i]=A[i-1]+A[i]\n",
    "print(A)"
   ]
  },
  {
   "cell_type": "code",
   "execution_count": 4,
   "id": "f681d8f9",
   "metadata": {},
   "outputs": [
    {
     "data": {
      "text/plain": [
       "[5, 10]"
      ]
     },
     "execution_count": 4,
     "metadata": {},
     "output_type": "execute_result"
    }
   ],
   "source": [
    "#queries sum\n",
    "def solve(A,B):\n",
    "    n=len(A)\n",
    "    p_sum=[0]*n\n",
    "    p_sum[0]=A[0]\n",
    "    res=[]\n",
    "    for i in range(1,n):\n",
    "        p_sum[i]=p_sum[i-1]+A[i]\n",
    "\n",
    "    for i in B:\n",
    "        L,R=i\n",
    "        if L==0:\n",
    "            q_sum=p_sum[R]\n",
    "        else:\n",
    "            q_sum=p_sum[R]-p_sum[L-1]\n",
    "        res.append(q_sum)\n",
    "    return res\n",
    "solve([1,2,3,4,5],[[1,2],[0,3]])"
   ]
  },
  {
   "cell_type": "code",
   "execution_count": 16,
   "id": "4e1be263",
   "metadata": {},
   "outputs": [
    {
     "data": {
      "text/plain": [
       "3"
      ]
     },
     "execution_count": 16,
     "metadata": {},
     "output_type": "execute_result"
    }
   ],
   "source": [
    "#special index\n",
    "def solve(A):\n",
    "    n=len(A)\n",
    "    even_sum=[0]\n",
    "    odd_sum=[0]\n",
    "    for i in range(n):\n",
    "        if i%2==0:\n",
    "            even_sum.append(even_sum[-1]+A[i])\n",
    "            odd_sum.append(odd_sum[-1])\n",
    "        else:\n",
    "            odd_sum.append(odd_sum[-1]+A[i])\n",
    "            even_sum.append(even_sum[-1])\n",
    "            \n",
    "            \n",
    "    ans=0\n",
    "    for i in range(n):\n",
    "            new_even=even_sum[i]+odd_sum[-1]-odd_sum[i+1]\n",
    "            new_odd=odd_sum[i]+even_sum[-1]-even_sum[i+1]\n",
    "            if(new_even==new_odd):\n",
    "                ans+=1\n",
    "    return ans\n",
    "\n",
    "solve([1,1,1])\n",
    "        "
   ]
  },
  {
   "cell_type": "code",
   "execution_count": 10,
   "id": "7f7bcde5",
   "metadata": {},
   "outputs": [
    {
     "name": "stdout",
     "output_type": "stream",
     "text": [
      "5\n"
     ]
    }
   ],
   "source": [
    "#Buy and sell Stock\n",
    "A=[7,1,5,3,4,6]\n",
    "n=len(A)\n",
    "max_array=[p for p in A]\n",
    "for i in range(n-2,-1,-1):\n",
    "     if max_array[i]<max_array[i+1]:\n",
    "        max_array[i]=max_array[i+1]\n",
    "#max_value=A[-1]\n",
    "temp_profit=0\n",
    "profit=0\n",
    "for i in range(0,n-1):\n",
    "        temp_profit=max_array[i]-A[i]\n",
    "        if temp_profit>profit:\n",
    "            profit=temp_profit\n",
    "\n",
    "print(profit) \n",
    "    \n"
   ]
  },
  {
   "cell_type": "code",
   "execution_count": 120,
   "id": "1c954b86",
   "metadata": {},
   "outputs": [
    {
     "name": "stdout",
     "output_type": "stream",
     "text": [
      "0\n"
     ]
    }
   ],
   "source": [
    "A=[7,1,5,3,6,4]\n",
    "n=len(A)\n",
    "cur_min=A[0]\n",
    "profit=0\n",
    "curProfit=0\n",
    "for i in range(0,len(A)):\n",
    "    if A[i]<cur_min:\n",
    "        curr_min=A[i]\n",
    "    curProfit=A[i]-cur_min\n",
    "    if curProfit>profit:\n",
    "        profit=curProfit\n",
    "print(profit)\n",
    "    "
   ]
  },
  {
   "cell_type": "code",
   "execution_count": 47,
   "id": "a16aa830",
   "metadata": {},
   "outputs": [
    {
     "name": "stdout",
     "output_type": "stream",
     "text": [
      "[7, 1, 5, 3, 6, 4]\n",
      "[7, 1, 5, 3, 6, 4]\n",
      "------------------------------------------\n",
      "[7, 6, 6, 6, 6, 4]\n",
      "[7, 1, 5, 3, 6, 4]\n",
      "5\n"
     ]
    }
   ],
   "source": [
    "#Buy and Sell stock\n",
    "A=[7,1,5,3,6,4]\n",
    "n=len(A)\n",
    "max_array=A.copy()\n",
    "print(max_array)\n",
    "print(A)\n",
    "for i in range(n-2,-1,-1):\n",
    "     if max_array[i]<max_array[i+1]:\n",
    "        max_array[i]=max_array[i+1]\n",
    "print(\"------------------------------------------\")\n",
    "print(max_array)\n",
    "print(A)\n",
    "max_value=A[-1]\n",
    "temp_profit=0\n",
    "profit=0\n",
    "for i in range(0,n-1):\n",
    "        temp_profit=max_array[i]-A[i]\n",
    "        if temp_profit>profit:\n",
    "            profit=temp_profit\n",
    "\n",
    "print(profit) \n",
    "    \n"
   ]
  },
  {
   "cell_type": "code",
   "execution_count": 16,
   "id": "a192cf6f",
   "metadata": {},
   "outputs": [
    {
     "data": {
      "text/plain": [
       "6"
      ]
     },
     "execution_count": 16,
     "metadata": {},
     "output_type": "execute_result"
    }
   ],
   "source": [
    "#count of g occur afeer a\n",
    "def AG(A):\n",
    "    cnt=0\n",
    "    ans=0\n",
    "    n=len(A)\n",
    "    for i in range(n-1,-1,-1):\n",
    "        if A[i]=='g':\n",
    "            cnt+=1\n",
    "\n",
    "        if A[i]=='a':\n",
    "            ans+=cnt\n",
    "    return ans\n",
    "\n",
    "AG('agadgag')"
   ]
  },
  {
   "cell_type": "code",
   "execution_count": 43,
   "id": "095f177c",
   "metadata": {},
   "outputs": [
    {
     "data": {
      "text/plain": [
       "[3, 2, 6]"
      ]
     },
     "execution_count": 43,
     "metadata": {},
     "output_type": "execute_result"
    }
   ],
   "source": [
    "#find subarray within given range\n",
    "def solve(A,B,C):\n",
    "    l=[]\n",
    "    for i in range(B,C+1):\n",
    "        l.append(A[i])\n",
    "    return l\n",
    "                                                                                                                                                                       \n",
    "solve([4,3,2,6],1,3)\n"
   ]
  },
  {
   "cell_type": "code",
   "execution_count": 8,
   "id": "1c7769b7",
   "metadata": {},
   "outputs": [
    {
     "name": "stdout",
     "output_type": "stream",
     "text": [
      "5\n"
     ]
    }
   ],
   "source": [
    "#buy and sell\n",
    "A=[4,2,1,0,5]\n",
    "n=len(A)\n",
    "max_array=[i for i in A]\n",
    "max_array[n-1]=A[-1]\n",
    "for i in range(n-2,-1,-1):\n",
    "    if max_array[i]<max_array[i+1]:\n",
    "        max_array[i]=max_array[i+1]\n",
    "\n",
    "temp_profit=0\n",
    "profit=0\n",
    "for i in range(n):\n",
    "    if max_array[i]>=A[i]:\n",
    "        temp_profit=max_array[i]-A[i]\n",
    "        if(temp_profit>profit):\n",
    "            profit=temp_profit\n",
    "print(profit)"
   ]
  },
  {
   "cell_type": "code",
   "execution_count": 19,
   "id": "b6c15448",
   "metadata": {},
   "outputs": [
    {
     "data": {
      "text/plain": [
       "9"
      ]
     },
     "execution_count": 19,
     "metadata": {},
     "output_type": "execute_result"
    }
   ],
   "source": [
    "#occurancee of a before g\n",
    "def AG(A):\n",
    "    cnt=0\n",
    "    ans=0\n",
    "    n=len(A)\n",
    "    for i in range(n):\n",
    "        if A[i]=='a':\n",
    "            cnt+=1\n",
    "\n",
    "        if A[i]=='g':\n",
    "            ans+=cnt\n",
    "    return ans\n",
    "\n",
    "AG('aagadgag')"
   ]
  },
  {
   "cell_type": "code",
   "execution_count": 15,
   "id": "2e5fbf81",
   "metadata": {},
   "outputs": [
    {
     "name": "stdout",
     "output_type": "stream",
     "text": [
      "6\n",
      "2\n",
      "1\n",
      "6\n"
     ]
    }
   ],
   "source": [
    "A=[3,6,2,1,6,5]\n",
    "n=len(A)\n",
    "a=min(A)\n",
    "b=max(A)\n",
    "for i in range(min(A),n-1):\n",
    "    print(A[i])\n",
    "    "
   ]
  },
  {
   "cell_type": "code",
   "execution_count": 6,
   "id": "78b233fb",
   "metadata": {},
   "outputs": [
    {
     "data": {
      "text/plain": [
       "[1, 1, 2, 1, 2, 3, 2, 2, 3, 3]"
      ]
     },
     "execution_count": 6,
     "metadata": {},
     "output_type": "execute_result"
    }
   ],
   "source": [
    "#sub array of a array\n",
    "A=[1,2,3]\n",
    "l=[]\n",
    "n=len(A)\n",
    "for i in range(n):\n",
    "    for j in range(i,n):\n",
    "        for k in range(i,j+1):\n",
    "               l.append(A[k])\n",
    "list(l)"
   ]
  },
  {
   "cell_type": "code",
   "execution_count": 23,
   "id": "e5e4c0a6",
   "metadata": {},
   "outputs": [
    {
     "name": "stdout",
     "output_type": "stream",
     "text": [
      "8\n"
     ]
    }
   ],
   "source": [
    "#find minimum length of a array containing min and max element\n",
    "\n",
    "\n",
    "# A=[3,6,2,1,6,5]\n",
    "A=[6,1,2,3,1,4,5,0]\n",
    "len_A=float('inf')\n",
    "n=len(A)\n",
    "min_A=min(A)\n",
    "max_A=max(A)\n",
    "for i in range(n):\n",
    "    if A[i]==min_A:\n",
    "        for j in range(i+1,n):\n",
    "            if A[j]==max_A:\n",
    "                len_A=min(len_A,j-i+1)\n",
    "                break\n",
    "    if A[i]==max_A:\n",
    "        for j in range(i+1,n):\n",
    "            if A[j]==min_A:\n",
    "                len_A=min(len_A,j-i+1)\n",
    "                break\n",
    "print(len_A)\n"
   ]
  },
  {
   "cell_type": "code",
   "execution_count": 12,
   "id": "f8397450",
   "metadata": {},
   "outputs": [
    {
     "name": "stdout",
     "output_type": "stream",
     "text": [
      "2\n"
     ]
    }
   ],
   "source": [
    "A=[1,1,1,1,1,2]\n",
    "n=len(A)\n",
    "ans=float(\"inf\")\n",
    "min_A=min(A)\n",
    "max_A=max(A)\n",
    "indx_min=-1\n",
    "indx_max=-1\n",
    "for i in range(n):\n",
    "    if A[i]==min_A:\n",
    "        if indx_max!=-1:\n",
    "            ans=min(ans,i-indx_max+1)\n",
    "        indx_min=i\n",
    "    elif A[i]==max_A:\n",
    "            if indx_min!=-1:\n",
    "                ans=min(ans,i-indx_min+1)\n",
    "            indx_max=i\n",
    "            \n",
    "print(ans)\n",
    "            \n",
    "            \n",
    "            \n"
   ]
  },
  {
   "cell_type": "code",
   "execution_count": 20,
   "id": "4f68d9dc",
   "metadata": {},
   "outputs": [
    {
     "name": "stdout",
     "output_type": "stream",
     "text": [
      "[[1], [1, 2], [1, 2, 3], [2], [2, 3], [3]]\n"
     ]
    }
   ],
   "source": [
    "def generate_subarrays(A):\n",
    "    n = len(A)\n",
    "    subarrays = []\n",
    "\n",
    "    for start in range(n):\n",
    "        for end in range(start + 1, n + 1):\n",
    "            subarray = A[start:end]\n",
    "            subarrays.append(subarray)\n",
    "\n",
    "    return subarrays\n",
    "\n",
    "\n",
    "A = [1, 2, 3]\n",
    "result = generate_subarrays(A)\n",
    "print(result)\n"
   ]
  },
  {
   "cell_type": "code",
   "execution_count": 61,
   "id": "79cc5570",
   "metadata": {},
   "outputs": [
    {
     "name": "stdout",
     "output_type": "stream",
     "text": [
      "18\n",
      "18\n",
      "18\n",
      "18\n",
      "5\n",
      "6\n"
     ]
    }
   ],
   "source": [
    "A=[17,18,5,4,6,1]\n",
    "n=len(A)\n",
    "for i in range(n):\n",
    "    for j in range(i+1,n):\n",
    "        if A[i]<A[j]:\n",
    "            break\n",
    "        else:\n",
    "            ele=A[i]\n",
    "            print(ele)\n",
    "            "
   ]
  },
  {
   "cell_type": "code",
   "execution_count": 70,
   "id": "77787d4a",
   "metadata": {},
   "outputs": [
    {
     "data": {
      "text/plain": [
       "[4, 17, 5, 2, 17, 5, 2, 5, 2, 2]"
      ]
     },
     "execution_count": 70,
     "metadata": {},
     "output_type": "execute_result"
    }
   ],
   "source": [
    "A=[16,4,17,5,2]\n",
    "l=[]\n",
    "for i in range(n):\n",
    "    for j in range(i+1,n-1):\n",
    "        l.append(A[j])\n",
    "        \n",
    "l        "
   ]
  },
  {
   "cell_type": "code",
   "execution_count": 14,
   "id": "dfde2efb",
   "metadata": {},
   "outputs": [
    {
     "name": "stdout",
     "output_type": "stream",
     "text": [
      "[17, 5, 2]\n"
     ]
    }
   ],
   "source": [
    "   #print leader of a array\n",
    "    \n",
    "arr=[16,17,4,3,5,2]\n",
    "n = len(arr)\n",
    "leaders = []\n",
    "max_right = arr[n - 1]\n",
    "leaders.insert(0,max_right)\n",
    "for i in range(n - 2, -1, -1):\n",
    "    if arr[i] > max_right:\n",
    "        leaders.insert(0,arr[i])\n",
    "        max_right = arr[i]\n",
    "print(leaders)\n",
    "\n"
   ]
  },
  {
   "cell_type": "code",
   "execution_count": null,
   "id": "323e7db7",
   "metadata": {},
   "outputs": [],
   "source": []
  },
  {
   "cell_type": "code",
   "execution_count": null,
   "id": "b57f8448",
   "metadata": {},
   "outputs": [],
   "source": []
  },
  {
   "cell_type": "code",
   "execution_count": 16,
   "id": "f3b19ee1",
   "metadata": {},
   "outputs": [
    {
     "name": "stdout",
     "output_type": "stream",
     "text": [
      "4\n"
     ]
    }
   ],
   "source": [
    "A=[9,6,4,1,2,6]\n",
    "n=len(A)\n",
    "min_A=min(A)\n",
    "max_A=max(A)\n",
    "index_min=-1\n",
    "index_max=-1\n",
    "ans=n\n",
    "for i in range(n):\n",
    "    if A[i]==min_A:\n",
    "        if index_max!=-1:\n",
    "            ans=min(ans,i-index_max+1)\n",
    "        index_min=i\n",
    "        \n",
    "    if A[i]==max_A:\n",
    "        if index_min!=-1:\n",
    "            ans=min(ans,i-index_min+1)\n",
    "        index_max=i\n",
    "        \n",
    "print(ans)"
   ]
  },
  {
   "cell_type": "code",
   "execution_count": 1,
   "id": "246cd1e3",
   "metadata": {},
   "outputs": [
    {
     "name": "stdout",
     "output_type": "stream",
     "text": [
      "[1, 3, 6, 10, 15]\n"
     ]
    }
   ],
   "source": [
    "A=[1,2,3,4,5]\n",
    "n=len(A)\n",
    "for i in range(1,n):\n",
    "    A[i]=A[i]+A[i-1]\n",
    "print(A)"
   ]
  },
  {
   "cell_type": "code",
   "execution_count": 10,
   "id": "51981abb",
   "metadata": {},
   "outputs": [
    {
     "data": {
      "text/plain": [
       "[[1], [1, 2], [1, 2, 3], [2], [2, 3], [3]]"
      ]
     },
     "execution_count": 10,
     "metadata": {},
     "output_type": "execute_result"
    }
   ],
   "source": [
    "A=[1,2,3]\n",
    "l=[]\n",
    "n=len(A)\n",
    "for i in range(n):\n",
    "    for j in range(i+1,n+1):\n",
    "        l_=A[i:j]\n",
    "        l.append(l_)\n",
    "        \n",
    "            \n",
    "l"
   ]
  },
  {
   "cell_type": "markdown",
   "id": "80d1ec13",
   "metadata": {},
   "source": [
    "## python_day_9"
   ]
  },
  {
   "cell_type": "code",
   "execution_count": 15,
   "id": "27e68557",
   "metadata": {},
   "outputs": [
    {
     "name": "stdout",
     "output_type": "stream",
     "text": [
      "1\n",
      "3\n",
      "6\n",
      "2\n",
      "5\n",
      "3\n"
     ]
    }
   ],
   "source": [
    "A=[1,2,3]\n",
    "n=len(A)\n",
    "for i in range(n):\n",
    "    for j in range(i,n):\n",
    "        sums=0\n",
    "        for k in range(i,j+1):\n",
    "            sums+=A[k]\n",
    "        print(sums)"
   ]
  },
  {
   "cell_type": "code",
   "execution_count": 20,
   "id": "3f5afff8",
   "metadata": {},
   "outputs": [
    {
     "name": "stdout",
     "output_type": "stream",
     "text": [
      "45\n"
     ]
    }
   ],
   "source": [
    "A=[7,1,8,5,8,5,3,3,5]\n",
    "n=len(A)\n",
    "B=78\n",
    "if n==1:\n",
    "    print(A)\n",
    "ans=float(\"-inf\")\n",
    "for i in range(n):\n",
    "    sums=0\n",
    "    for j in range(i,n):\n",
    "        sums+=A[j]\n",
    "        if sums<=B:\n",
    "            ans=max(sums,ans)\n",
    "print(ans)\n",
    "            \n",
    "      "
   ]
  },
  {
   "cell_type": "code",
   "execution_count": 24,
   "id": "d29ad1df",
   "metadata": {},
   "outputs": [
    {
     "data": {
      "text/plain": [
       "4"
      ]
     },
     "execution_count": 24,
     "metadata": {},
     "output_type": "execute_result"
    }
   ],
   "source": [
    "def max_A(A,B,C):\n",
    "    A=len(C)\n",
    "    ans=0\n",
    "    for i in range(A):\n",
    "        sums=0\n",
    "        for j in range(i,A):\n",
    "            sums+=C[j]\n",
    "            if sums<=B:\n",
    "                ans=max(ans,sums)\n",
    "    return ans\n",
    "\n",
    "max_A(1,75,[4])"
   ]
  },
  {
   "cell_type": "code",
   "execution_count": 27,
   "id": "cedea713",
   "metadata": {},
   "outputs": [
    {
     "data": {
      "text/plain": [
       "20"
      ]
     },
     "execution_count": 27,
     "metadata": {},
     "output_type": "execute_result"
    }
   ],
   "source": [
    "def subarraysum(A):\n",
    "    n=len(A)\n",
    "    sums=0\n",
    "    for i in range(n):\n",
    "        sums+=A[i]*(i+1)*(n-i)\n",
    "    return sums\n",
    "\n",
    "subarraysum([1,2,3])\n",
    "        \n",
    "        "
   ]
  },
  {
   "cell_type": "code",
   "execution_count": 30,
   "id": "76251052",
   "metadata": {},
   "outputs": [
    {
     "name": "stdout",
     "output_type": "stream",
     "text": [
      "1\n",
      "0\n"
     ]
    }
   ],
   "source": [
    "def Solve(A,B,C):\n",
    "    n=len(A)\n",
    "    p=[0]*n\n",
    "    for i in range(n):\n",
    "        p[i]=p[i-1]+A[i]\n",
    "    start=0\n",
    "    end=B-1\n",
    "    while(end<n):\n",
    "        if start==0:\n",
    "            sums= p[end]\n",
    "        else:\n",
    "            sums=p[end]-p[start-1]\n",
    "\n",
    "        if C==sums:\n",
    "            return 1\n",
    "        start+=1\n",
    "        end+=1\n",
    "        \n",
    "    return 0\n",
    "\n",
    "print(Solve([4,3,2,6,1],3,11))\n",
    "print(Solve([4,2,2,5,1],4,6))"
   ]
  },
  {
   "cell_type": "code",
   "execution_count": 6,
   "id": "97be9ff5",
   "metadata": {},
   "outputs": [
    {
     "name": "stdout",
     "output_type": "stream",
     "text": [
      "2\n",
      "3\n",
      "3\n",
      "7\n",
      "7\n"
     ]
    }
   ],
   "source": [
    "A=[2,3,1,6,4,5]\n",
    "p=[0]*len(A)\n",
    "p[0]=A[0]\n",
    "for i in range(1,len(A)):\n",
    "    if i%2==0:\n",
    "        p[i]=p[i-1]+A[i]\n",
    "    else:\n",
    "        p[i]=p[i-1]\n",
    "    print(p[i])"
   ]
  },
  {
   "cell_type": "code",
   "execution_count": 14,
   "id": "d34e77e6",
   "metadata": {},
   "outputs": [
    {
     "name": "stdout",
     "output_type": "stream",
     "text": [
      "2\n"
     ]
    }
   ],
   "source": [
    "A=[4,3,2,7,6,-2]\n",
    "n=len(A)\n",
    "pe=[0]*n\n",
    "po=[0]*n\n",
    "\n",
    "\n",
    "pe[0]=A[0]\n",
    "for i in range(1,n):\n",
    "    if i%2==0:\n",
    "        pe[i]=pe[i-1]+A[i]\n",
    "        \n",
    "    else:\n",
    "        pe[i]=pe[i-1]\n",
    "        \n",
    "\n",
    "po_sum[0]=0\n",
    "for i in range(1,n):\n",
    "    if i%2==1:\n",
    "        po[i]=po[i-1]+A[i]\n",
    "    else:\n",
    "        po[i]=po[i-1]\n",
    "\n",
    "        \n",
    "so=0\n",
    "se=0\n",
    "ans=0\n",
    "for i in range(n):\n",
    "    if i==0:\n",
    "        so=pe[n-1]-pe[i]\n",
    "        se=po[n-1]\n",
    "    else:\n",
    "        so=po[i-1]+pe[n-1]-pe[i]\n",
    "        se=pe[i-1]+po[n-1]-po[i]\n",
    "    if so==se:\n",
    "        ans+=1\n",
    "print(ans)\n",
    "        "
   ]
  },
  {
   "cell_type": "code",
   "execution_count": 3,
   "id": "51242735",
   "metadata": {},
   "outputs": [
    {
     "name": "stdout",
     "output_type": "stream",
     "text": [
      "3\n"
     ]
    }
   ],
   "source": [
    "A=[20,3,13,5,10,14,8,5,11,9,1,11]\n",
    "B=9\n",
    "d=[]\n",
    "n=len(A)\n",
    "p=[0]*n\n",
    "for i in range(n):\n",
    "    p[i]=p[i-1]+A[i]\n",
    "st=0\n",
    "end=B-1\n",
    "sums=0\n",
    "ans=float(\"-inf\")\n",
    "while(end<n):\n",
    "    if st==0:\n",
    "        sums=p[end]\n",
    "    else:\n",
    "        sums=p[end]-p[st-1]\n",
    "    d.append(sums/B)\n",
    "    st+=1\n",
    "    end+=1\n",
    "\n",
    "e=min(d)\n",
    "index = d.index(e)\n",
    "print(index)\n",
    "\n",
    "\n",
    "\n",
    "\n",
    "\n"
   ]
  },
  {
   "cell_type": "code",
   "execution_count": 9,
   "id": "e1f108ee",
   "metadata": {},
   "outputs": [
    {
     "name": "stdout",
     "output_type": "stream",
     "text": [
      "[7, 5, 19, 17, 13, 5, 3, 16, 9, 7, 11]\n",
      "total number of elemnts less than B 11\n",
      "-----------------------------------------------------------------------------------------------\n",
      "array of A in p,  [52, 7, 93, 47, 68, 26, 51, 44, 5, 41, 88, 19, 78, 38, 17, 13, 24, 74, 92, 5, 84, 27, 48, 49, 37, 59, 3, 56, 79, 26, 55, 60, 16, 83, 63, 40, 55, 9, 96, 29, 7, 22, 27, 74, 78, 38, 11, 65, 29, 52, 36, 21, 94, 46, 52, 47, 87, 33, 87, 70]\n",
      "-----------------------------------------------------------------------------------------------\n",
      "subtracted elements from B [33, -12, 74, 28, 49, 7, 32, 25, -14, 22, 69, 0, 59, 19, -2, -6, 5, 55, 73, -14, 65, 8, 29, 30, 18, 40, -16, 37, 60, 7, 36, 41, -3, 64, 44, 21, 36, -10, 77, 10, -12, 3, 8, 55, 59, 19, -8, 46, 10, 33, 17, 2, 75, 27, 33, 28, 68, 14, 68, 51]\n",
      "-----------------------------------------------------------------------------------------------\n",
      "elements after removing negative number from B [33, 74, 28, 49, 7, 32, 25, 22, 69, 0, 59, 19, 5, 55, 73, 65, 8, 29, 30, 18, 40, 37, 60, 7, 36, 41, 64, 44, 21, 36, 77, 10, 3, 8, 55, 59, 19, 46, 10, 33, 17, 2, 75, 27, 33, 28, 68, 14, 68, 51]\n",
      "-----------------------------------------------------------------------------------------------\n",
      "number which will be nearest to B or equal to B 11\n",
      "-----------------------------------------------------------------------------------------------\n",
      "2\n",
      "----------------------------------------------------------------------------------------------\n",
      "9\n"
     ]
    }
   ],
   "source": [
    "A=[52,7,93,47,68,26,51,44,5,41,88,19,78,38,17,13,24,74,92,5,84,27,48,49,37,59,3,56,79,26,55,60,16,83,63,40,55,9,96,29,7,22,27,74,78,38,11,65,29,52,36,21,94,46,52,47,87,33,87,70]\n",
    "\n",
    "cnt=0\n",
    "y=[]\n",
    "B=19\n",
    "n=len(A)\n",
    "for i in range(n):\n",
    "    if A[i]<=B:\n",
    "        cnt+=1\n",
    "        y.append(A[i])\n",
    "print(y)\n",
    "\n",
    "print('total number of elemnts less than B',cnt)\n",
    "print(\"-----------------------------------------------------------------------------------------------\")\n",
    "\n",
    "\n",
    "x=[]\n",
    "g=[]\n",
    "p=[i for i in A]\n",
    "print(\"array of A in p, \",p)\n",
    "print(\"-----------------------------------------------------------------------------------------------\")\n",
    "for i in range(n):\n",
    "    sub=p[i]-B\n",
    "    x.append(sub)\n",
    "print(\"subtracted elements from B\",x)\n",
    "print(\"-----------------------------------------------------------------------------------------------\")\n",
    "for i in range(n):\n",
    "    if x[i]>=0:\n",
    "        g.append(x[i])\n",
    "print(\"elements after removing negative number from B\", g)\n",
    "print(\"-----------------------------------------------------------------------------------------------\")\n",
    "h=min(g)\n",
    "k=B+h\n",
    "\n",
    "for i in range(n):\n",
    "    if p[i]==k:\n",
    "        l=i\n",
    "        print(\"number which will be nearest to B or equal to B\", l)\n",
    "        print(\"-----------------------------------------------------------------------------------------------\")\n",
    "        break\n",
    "\n",
    "cnt_1=0\n",
    "for i in range(l):\n",
    "    if A[i]<B:\n",
    "        cnt_1+=1\n",
    "print(cnt_1)\n",
    "print(\"----------------------------------------------------------------------------------------------\")\n",
    "ans=cnt-cnt_1\n",
    "    \n",
    "print(ans)"
   ]
  },
  {
   "cell_type": "code",
   "execution_count": 30,
   "id": "c17ae68f",
   "metadata": {},
   "outputs": [
    {
     "name": "stdout",
     "output_type": "stream",
     "text": [
      "[5, 1, 2, 3, 4]\n"
     ]
    }
   ],
   "source": [
    "A=[1,2,3,4,5]\n",
    "n=len(A)\n",
    "temp=A[n-1]\n",
    "for i in range(n-1,0,-1):\n",
    "    A[i]=A[i-1]\n",
    "A[0]=temp\n",
    "print(A)"
   ]
  },
  {
   "cell_type": "code",
   "execution_count": 49,
   "id": "115613cc",
   "metadata": {},
   "outputs": [
    {
     "name": "stdout",
     "output_type": "stream",
     "text": [
      "[3, 4, 5, 1, 2]\n"
     ]
    }
   ],
   "source": [
    "A=[1,2,3,4,5]\n",
    "n=len(A)\n",
    "k=58\n",
    "k=k%n\n",
    "for j in range(k):\n",
    "    temp=A[n-1]\n",
    "    for i in range(n-1,0,-1):\n",
    "        A[i]=A[i-1]\n",
    "    A[0]=temp\n",
    "print(A)"
   ]
  },
  {
   "cell_type": "markdown",
   "id": "9aa44c26",
   "metadata": {},
   "source": [
    "## Python day 10\n"
   ]
  },
  {
   "cell_type": "code",
   "execution_count": 82,
   "id": "ddc65b93",
   "metadata": {},
   "outputs": [
    {
     "name": "stdout",
     "output_type": "stream",
     "text": [
      "10\n",
      "30\n",
      "27\n"
     ]
    }
   ],
   "source": [
    "A=[\n",
    "    [1,2,3,4],\n",
    "  [6,7,8,9],\n",
    "  [4,5,6,12],\n",
    "  ]\n",
    "\n",
    "n=len(A)\n",
    "m=len(A[0])\n",
    "for i in range(n):\n",
    "    sums=0\n",
    "    for j in range(m):\n",
    "        sums+=A[i][j]\n",
    "    print(sums)\n",
    "        "
   ]
  },
  {
   "cell_type": "code",
   "execution_count": 15,
   "id": "eb31d79f",
   "metadata": {},
   "outputs": [
    {
     "name": "stdout",
     "output_type": "stream",
     "text": [
      "11\n",
      "14\n",
      "17\n"
     ]
    }
   ],
   "source": [
    "A=[\n",
    "    [1,2,3,],\n",
    "  [6,7,8],\n",
    "  [4,5,6],\n",
    "  ]\n",
    "\n",
    "n=len(A)\n",
    "for i in range(n):\n",
    "    sums=0\n",
    "    for j in range(n):\n",
    "        sums+=A[j][i]\n",
    "    print(sums)\n",
    "        "
   ]
  },
  {
   "cell_type": "code",
   "execution_count": 4,
   "id": "75c9f643",
   "metadata": {},
   "outputs": [
    {
     "name": "stdout",
     "output_type": "stream",
     "text": [
      "[10, 40, 70]\n",
      "[20, 50, 80]\n",
      "[30, 60, 90]\n"
     ]
    }
   ],
   "source": [
    "#Transpose\n",
    "matrix = [\n",
    "            [10, 20, 30],\n",
    "            [40, 50, 60],\n",
    "            [70, 80, 90]]\n",
    "n=len(matrix)\n",
    "m=len(matrix[0])\n",
    "transpose = []\n",
    "\n",
    "for j in range(n):\n",
    "    transpose_row = []\n",
    "    for i in range(m):\n",
    "        transpose_row.append(matrix[i][j])\n",
    "    transpose.append(transpose_row)\n",
    "for i in transpose:\n",
    "    print(i)"
   ]
  },
  {
   "cell_type": "code",
   "execution_count": 48,
   "id": "a2eb3995",
   "metadata": {},
   "outputs": [
    {
     "name": "stdout",
     "output_type": "stream",
     "text": [
      "[70, 40, 10]\n",
      "[80, 50, 20]\n",
      "[90, 60, 30]\n"
     ]
    }
   ],
   "source": [
    "#90 degree clockwise\n",
    "matrix = [\n",
    "            [10, 20, 30],\n",
    "            [40, 50, 60],\n",
    "            [70, 80, 90]]\n",
    "n=len(matrix)\n",
    "m=len(matrix[0])\n",
    "transpose = []\n",
    "\n",
    "for j in range(n):\n",
    "    transpose_row = []\n",
    "    for i in range(m):\n",
    "        transpose_row.append(matrix[i][j])\n",
    "    transpose.append(transpose_row)\n",
    "\n",
    "matrix_2=[]\n",
    "for i in range(len(transposed)):\n",
    "    matrix_2.append(transposed[i][::-1])\n",
    "for rows in matrix_2:\n",
    "    print(rows)"
   ]
  },
  {
   "cell_type": "code",
   "execution_count": 53,
   "id": "0c90bb02",
   "metadata": {},
   "outputs": [
    {
     "name": "stdout",
     "output_type": "stream",
     "text": [
      "[70, 40, 10]\n",
      "[80, 50, 20]\n",
      "[90, 60, 30]\n"
     ]
    }
   ],
   "source": [
    "matrix = [\n",
    "            [10, 20, 30],\n",
    "            [40, 50, 60],\n",
    "            [70, 80, 90]]\n",
    "n=len(matrix)\n",
    "m=len(matrix[0])\n",
    "transpose = []\n",
    "\n",
    "for j in range(n):\n",
    "    transpose_row = []\n",
    "    for i in range(m):\n",
    "        transpose_row.append(matrix[i][j])\n",
    "    transpose.append(transpose_row)\n",
    "\n",
    "matrix_2=[]\n",
    "for i in range(len(transposed)):\n",
    "    matrix_2.append(transposed[i][::-1])\n",
    "for rows in matrix_2:\n",
    "    print(rows)"
   ]
  },
  {
   "cell_type": "code",
   "execution_count": 77,
   "id": "34431ef5",
   "metadata": {},
   "outputs": [
    {
     "data": {
      "text/plain": [
       "[9, 6, 3, 8, 5, 2, 7, 4, 1]"
      ]
     },
     "execution_count": 77,
     "metadata": {},
     "output_type": "execute_result"
    }
   ],
   "source": [
    "matrix = [\n",
    "            [1, 2, 3],\n",
    "            [4, 5, 6],\n",
    "            [7, 8, 9]]\n",
    "n=len(matrix)\n",
    "m=len(matrix[0])\n",
    "a=[]\n",
    "a1=[]\n",
    "for j in range(n-1,-1,-1):\n",
    "    for i in range(m-1,-1,-1):\n",
    "        a.append(matrix[i][j])\n",
    "a\n",
    "        "
   ]
  },
  {
   "cell_type": "code",
   "execution_count": 94,
   "id": "08716df6",
   "metadata": {},
   "outputs": [
    {
     "name": "stdout",
     "output_type": "stream",
     "text": [
      "[1, 2, 3]\n",
      "[4, 5, 6]\n",
      "[7, 8, 9]\n"
     ]
    }
   ],
   "source": [
    "def rotate_matrix(matrix, k):\n",
    "    num_rows = len(matrix)\n",
    "    num_cols = len(matrix[0])\n",
    "    k %= 4  \n",
    "\n",
    "    for _ in range(k):\n",
    "        new_matrix = [[0] * num_rows for _ in range(num_cols)]\n",
    "\n",
    "        for i in range(num_rows):\n",
    "            for j in range(num_cols):\n",
    "                new_matrix[j][num_rows - 1 - i] = matrix[i][j]\n",
    "\n",
    "        matrix = new_matrix\n",
    "\n",
    "    return matrix\n",
    "\n",
    "matrix = [[1, 2, 3], [4, 5, 6], [7, 8, 9]]\n",
    "k = 4\n",
    "rotated_matrix = rotate_matrix(matrix, k)\n",
    "\n",
    "for row in rotated_matrix:\n",
    "    print(row)\n"
   ]
  },
  {
   "cell_type": "code",
   "execution_count": 103,
   "id": "afdaaf31",
   "metadata": {},
   "outputs": [
    {
     "name": "stdout",
     "output_type": "stream",
     "text": [
      "[[2, 4, 6, 8, 10, 12, 14, 16, 18]]\n"
     ]
    }
   ],
   "source": [
    "A=[[1, 2, 3],\n",
    "[4, 5, 6],\n",
    "[7, 8, 9]]\n",
    "B=2\n",
    "prod=[]\n",
    "mul=[]\n",
    "n=len(A)\n",
    "for i in range(n):\n",
    "    for j in range(n):\n",
    "        mul.append(B*A[i][j])\n",
    "prod.append(mul)\n",
    "print(prod)\n",
    "\n"
   ]
  },
  {
   "cell_type": "code",
   "execution_count": 129,
   "id": "5bb764ae",
   "metadata": {},
   "outputs": [
    {
     "name": "stdout",
     "output_type": "stream",
     "text": [
      "[[10, 10, 10, 10, 10, 10, 10, 10, 10]]\n"
     ]
    }
   ],
   "source": [
    "A=[[1, 2, 3],\n",
    "[4, 5, 6],\n",
    "[7, 8, 9]]\n",
    "\n",
    "B=[[9,8,7],\n",
    "  [6,5,4],\n",
    "  [3,2,1]]\n",
    "\n",
    "c=[]\n",
    "d=[]\n",
    "n=len(A)\n",
    "for i in range(n):\n",
    "    for j in range(n):\n",
    "        sums=0\n",
    "        sums+=A[i][j]+B[i][j]\n",
    "        d.append(sums)\n",
    "c.append(d)\n",
    "print(c)\n",
    "\n"
   ]
  },
  {
   "cell_type": "code",
   "execution_count": 121,
   "id": "65eda6f7",
   "metadata": {},
   "outputs": [
    {
     "name": "stdout",
     "output_type": "stream",
     "text": [
      "-5\n"
     ]
    }
   ],
   "source": [
    "A=[[1, 2, -3],\n",
    "[4, 5, 6],\n",
    "[-7, 8, 9]]\n",
    "n=len(A)\n",
    "i=0\n",
    "j=n-1\n",
    "sums=0\n",
    "while(i<n):\n",
    "    sums+=A[i][j]\n",
    "    i+=1\n",
    "    j-=1\n",
    "print(sums)\n",
    "    "
   ]
  },
  {
   "cell_type": "code",
   "execution_count": 183,
   "id": "632cf913",
   "metadata": {},
   "outputs": [
    {
     "name": "stdout",
     "output_type": "stream",
     "text": [
      "[1]\n",
      "[2, 4]\n",
      "[3, 5, 7]\n"
     ]
    }
   ],
   "source": [
    "A=[[1,2,3],\n",
    " [4,5,6],\n",
    " [7,8,9]]\n",
    "n=len(A)\n",
    "\n",
    "for i in range(n):\n",
    "    for j in range(n):\n",
    "        r=0\n",
    "        c=i\n",
    "        l=[]\n",
    "        while(r<n and c>=0):\n",
    "            l.append(A[r][c])\n",
    "\n",
    "            r+=1\n",
    "            c-=1\n",
    "\n",
    "    print(l)\n",
    "\n",
    "\n"
   ]
  },
  {
   "cell_type": "code",
   "execution_count": 184,
   "id": "ea3f3064",
   "metadata": {},
   "outputs": [
    {
     "name": "stdout",
     "output_type": "stream",
     "text": [
      "[3, 5, 7]\n",
      "[6, 8]\n",
      "[9]\n"
     ]
    }
   ],
   "source": [
    "A=[[1,2,3],\n",
    " [4,5,6],\n",
    " [7,8,9]]\n",
    "n=len(A)\n",
    "\n",
    "for i in range(n):\n",
    "    r=i\n",
    "    c=n-1\n",
    "    l=[]\n",
    "    while(r<n and c>=0):\n",
    "        l.append(A[r][c])\n",
    "        \n",
    "        r+=1\n",
    "        c-=1\n",
    "    print(l)\n",
    "        \n"
   ]
  },
  {
   "cell_type": "code",
   "execution_count": 12,
   "id": "ea89453c",
   "metadata": {},
   "outputs": [
    {
     "name": "stdout",
     "output_type": "stream",
     "text": [
      "1\n",
      "0\n",
      "0\n",
      "2\n",
      "4\n",
      "0\n",
      "3\n",
      "5\n",
      "7\n",
      "3\n",
      "5\n",
      "7\n",
      "6\n",
      "8\n",
      "0\n",
      "9\n",
      "0\n",
      "0\n"
     ]
    }
   ],
   "source": [
    "A=[[1,2,3],\n",
    " [4,5,6],\n",
    " [7,8,9]]\n",
    "n=len(A)\n",
    "l=[]\n",
    "for i in range(n):\n",
    "    r=0\n",
    "    c=i\n",
    "    for j in range(n):\n",
    "        if(r<n and c>=0):\n",
    "            print(A[r][c])\n",
    "        else:\n",
    "            print('0')\n",
    "        r+=1\n",
    "        c-=1\n",
    "\n",
    "for i in range(n):\n",
    "    r=i\n",
    "    c=n-1\n",
    "    for j in range(n):\n",
    "        if(r<n and c>=0):\n",
    "            print(A[r][c])\n",
    "            r+=1\n",
    "            c-=1\n",
    "        else:\n",
    "            print(\"0\")\n",
    "   \n",
    "\n",
    "\n",
    "\n"
   ]
  },
  {
   "cell_type": "code",
   "execution_count": 206,
   "id": "a1f4e77b",
   "metadata": {},
   "outputs": [
    {
     "name": "stdout",
     "output_type": "stream",
     "text": [
      "1\n",
      "2\n",
      "3\n",
      "4\n",
      "8\n",
      "12\n",
      "16\n",
      "15\n",
      "14\n",
      "13\n",
      "9\n",
      "5\n"
     ]
    }
   ],
   "source": [
    "A=[[1,2,3,4],\n",
    "  [5,6,7,8],\n",
    "  [9,10,11,12],\n",
    "  [13,14,15,16]]\n",
    "n=len(A)\n",
    "for i in range(n-1):\n",
    "    print(A[0][i])\n",
    "    \n",
    "for i in range(n-1):\n",
    "    print(A[i][n-1])\n",
    "    \n",
    "for i in range(n-1,0,-1):\n",
    "    print(A[n-1][i])\n",
    "    \n",
    "for i in range(n-1,0,-1):\n",
    "    print(A[i][0])\n",
    "             "
   ]
  },
  {
   "cell_type": "code",
   "execution_count": 7,
   "id": "22aa48bc",
   "metadata": {},
   "outputs": [
    {
     "name": "stdout",
     "output_type": "stream",
     "text": [
      "3\n",
      "5\n",
      "7\n",
      "6\n",
      "8\n",
      "0\n",
      "9\n",
      "0\n",
      "0\n"
     ]
    }
   ],
   "source": [
    "A=[[1,2,3],\n",
    " [4,5,6],\n",
    " [7,8,9]]\n",
    "n=len(A)\n",
    "l=[]\n",
    "\n",
    "for i in range(n):\n",
    "    r=i\n",
    "    c=n-1\n",
    "    for j in range(n):\n",
    "        if(r<n and c>=0):\n",
    "            print(A[r][c])\n",
    "            r+=1\n",
    "            c-=1\n",
    "        else:\n",
    "            print(\"0\")\n",
    "   \n",
    "\n"
   ]
  },
  {
   "cell_type": "code",
   "execution_count": 13,
   "id": "ec992d4b",
   "metadata": {},
   "outputs": [],
   "source": [
    "def getAntiDiagonals(matrix):\n",
    "    if not matrix:\n",
    "        return []\n",
    "\n",
    "    n = len(matrix)\n",
    "    anti_diagonals = []\n",
    "\n",
    "    for i in range(n):\n",
    "        diagonal = [matrix[j][j - i] for j in range(i, n)]\n",
    "        anti_diagonals.append(diagonal)\n",
    "\n",
    "    for i in range(1, n):\n",
    "        diagonal = [matrix[j - i][j] for j in range(i, n)]\n",
    "        anti_diagonals.append(diagonal)\n",
    "\n",
    "    return anti_diagonals\n"
   ]
  },
  {
   "cell_type": "code",
   "execution_count": 14,
   "id": "9e5eead3",
   "metadata": {},
   "outputs": [],
   "source": [
    "matrix=[[1,2,3],\n",
    "       [4,5,6],\n",
    "       [7,8,9]]"
   ]
  },
  {
   "cell_type": "code",
   "execution_count": 15,
   "id": "88ece548",
   "metadata": {},
   "outputs": [
    {
     "data": {
      "text/plain": [
       "[[1, 5, 9], [4, 8], [7], [2, 6], [3]]"
      ]
     },
     "execution_count": 15,
     "metadata": {},
     "output_type": "execute_result"
    }
   ],
   "source": [
    "\n",
    "getAntiDiagonals(matrix)"
   ]
  },
  {
   "cell_type": "code",
   "execution_count": 2,
   "id": "21db9a4f",
   "metadata": {},
   "outputs": [
    {
     "name": "stdout",
     "output_type": "stream",
     "text": [
      "6\n",
      "----------------------------------------------------------------------------------------------------------------------\n",
      "WC 2\n",
      "-------------------------------------------------------------------------------------------------------------------\n",
      "4\n",
      "----------------------------------------------------------------------------------------------------\n",
      "2\n"
     ]
    }
   ],
   "source": [
    "A =[20,3,13,5,10,14,8,5,11,9,1,11]\n",
    "B = 9\n",
    "\n",
    "\n",
    "cnt = sum(1 for num in A if num <= B)\n",
    "print(cnt)\n",
    "print(\"----------------------------------------------------------------------------------------------------------------------\")\n",
    "window_start = 0\n",
    "window_count = sum(1 for num in A[window_start:window_start + cnt] if num < B)\n",
    "print('WC',window_count)\n",
    "print(\"-------------------------------------------------------------------------------------------------------------------\")\n",
    "min_swaps = cnt - window_count \n",
    "print(min_swaps)\n",
    "print(\"----------------------------------------------------------------------------------------------------\")\n",
    "for window_end in range(cnt, len(A)):\n",
    "    if A[window_end] <=B:\n",
    "        window_count += 1\n",
    "    if A[window_start] < B:\n",
    "        window_count -= 1\n",
    "    min_swaps = min(min_swaps, cnt - window_count)\n",
    "    window_start += 1\n",
    "\n",
    "print(min_swaps)\n"
   ]
  },
  {
   "cell_type": "code",
   "execution_count": 4,
   "id": "42fc3703",
   "metadata": {},
   "outputs": [
    {
     "name": "stdout",
     "output_type": "stream",
     "text": [
      "6\n",
      "4\n",
      "2\n"
     ]
    }
   ],
   "source": [
    "A==[20,3,13,5,10,14,8,5,11,9,1,11]\n",
    "B=9\n",
    "\n",
    "cnt=0\n",
    "for i in range(len(A)):\n",
    "    if A[i]<=B:\n",
    "        cnt+=1\n",
    "print(cnt)\n",
    "\n",
    "w_cnt=0\n",
    "for i in range(0,cnt):\n",
    "    if A[i]>B:\n",
    "        w_cnt+=1\n",
    "print(w_cnt)\n",
    "\n",
    "min_swaps = w_cnt  \n",
    "for i in range(cnt, len(A)):\n",
    "    if A[i] > B:\n",
    "        w_cnt += 1\n",
    "    if A[i - cnt] > B:\n",
    "        w_cnt -= 1\n",
    "    min_swaps = min(min_swaps, w_cnt)\n",
    "\n",
    "print(min_swaps)\n"
   ]
  },
  {
   "cell_type": "code",
   "execution_count": 87,
   "id": "e084a3be",
   "metadata": {},
   "outputs": [
    {
     "name": "stdout",
     "output_type": "stream",
     "text": [
      "[[1, 0, 0], [2, 4, 0], [3, 5, 7], [6, 8, 0], [9, 0, 0]]\n"
     ]
    }
   ],
   "source": [
    "def print_diagonal(A):\n",
    "    \n",
    "    n = len(A)\n",
    "    m = len(A[0])\n",
    "    result = []\n",
    "    length = min(n, m)\n",
    "\n",
    "    for k in range(m):\n",
    "        result.append([0 for y in range(length)])\n",
    "        i = 0\n",
    "        j = k\n",
    "        while j >= 0 and i < n:\n",
    "            result[-1][i] = A[i][j]\n",
    "            i = i + 1\n",
    "            j = j - 1\n",
    "\n",
    "    \n",
    "    for k in range(1,n): \n",
    "        result.append([0 for y in range(length)])      \n",
    "        i = k\n",
    "        j = m - 1\n",
    "        while j >= 0 and i < n:\n",
    "            result[-1][i - k] = A[i][j]\n",
    "            i = i + 1\n",
    "            j = j - 1\n",
    "    return result\n",
    "        \n",
    "A = [[1, 2, 3],\n",
    "    [4, 5, 6],\n",
    "    [7, 8, 9]]\n",
    "print(print_diagonal(A))\n"
   ]
  },
  {
   "cell_type": "markdown",
   "id": "aa6ffb1e",
   "metadata": {},
   "source": [
    "## Python day 11"
   ]
  },
  {
   "cell_type": "code",
   "execution_count": 9,
   "id": "1a175e05",
   "metadata": {},
   "outputs": [
    {
     "name": "stdout",
     "output_type": "stream",
     "text": [
      "1\n",
      "2\n",
      "3\n",
      "4\n",
      "5\n",
      "8\n"
     ]
    }
   ],
   "source": [
    "#selection sort\n",
    "A=[2,1,4,5,8,3]\n",
    "for i in range(0,len(A)):\n",
    "    min_i=i\n",
    "    for j in range(i+1,len(A)):\n",
    "        if A[j]<A[min_i]:\n",
    "            min_i=j\n",
    "            \n",
    "    A[i],A[min_i]=A[min_i],A[i]  \n",
    "    \n",
    "for i in range(len(A)):\n",
    "    print(A[i])\n",
    "    \n",
    "            \n",
    "        \n",
    "    \n",
    "    "
   ]
  },
  {
   "cell_type": "code",
   "execution_count": 11,
   "id": "9c29e061",
   "metadata": {},
   "outputs": [
    {
     "name": "stdout",
     "output_type": "stream",
     "text": [
      "1\n",
      "2\n",
      "3\n",
      "4\n",
      "5\n",
      "8\n"
     ]
    }
   ],
   "source": [
    "#insertion sort\n",
    "A=[2,1,4,5,8,3]\n",
    "for i in range(1,len(A)):\n",
    "    key=A[i]\n",
    "    j=i-1\n",
    "    while(j>=0 and A[j]>key):\n",
    "        A[j+1]=A[j]\n",
    "        j-=1\n",
    "    A[j+1]=key\n",
    "for i in range(len(A)):\n",
    "    print(A[i])\n",
    "    "
   ]
  },
  {
   "cell_type": "code",
   "execution_count": 34,
   "id": "c057f79b",
   "metadata": {},
   "outputs": [
    {
     "name": "stdout",
     "output_type": "stream",
     "text": [
      "20\n"
     ]
    }
   ],
   "source": [
    "A=[4,3,2,1]\n",
    "cost=0\n",
    "for i in range(len(A)):\n",
    "    cost+=A[i]*(i+1)\n",
    "print(cost)\n",
    "    "
   ]
  },
  {
   "cell_type": "code",
   "execution_count": 31,
   "id": "a5a506a2",
   "metadata": {},
   "outputs": [
    {
     "name": "stdout",
     "output_type": "stream",
     "text": [
      "[3, 2, 1]\n"
     ]
    }
   ],
   "source": [
    "A=[2,1,3]\n",
    "A.sort(reverse=True)\n",
    "print(A)"
   ]
  },
  {
   "cell_type": "code",
   "execution_count": 33,
   "id": "8095209b",
   "metadata": {},
   "outputs": [
    {
     "name": "stdout",
     "output_type": "stream",
     "text": [
      "[4, 3, 2, 1]\n"
     ]
    }
   ],
   "source": [
    "B=[2,1,4,3]\n",
    "c=sorted(B, reverse=True)\n",
    "print(c)"
   ]
  },
  {
   "cell_type": "code",
   "execution_count": 36,
   "id": "5a372cc8",
   "metadata": {},
   "outputs": [
    {
     "name": "stdout",
     "output_type": "stream",
     "text": [
      "0\n"
     ]
    }
   ],
   "source": [
    "A=[1,3,3,4]\n",
    "d=A[1]-A[0]\n",
    "e=A[2]-A[1]\n",
    "if d==e:\n",
    "    print(1)\n",
    "else:\n",
    "    print(0)"
   ]
  },
  {
   "cell_type": "code",
   "execution_count": 10,
   "id": "c3689172",
   "metadata": {},
   "outputs": [
    {
     "ename": "IndexError",
     "evalue": "list index out of range",
     "output_type": "error",
     "traceback": [
      "\u001b[1;31m---------------------------------------------------------------------------\u001b[0m",
      "\u001b[1;31mIndexError\u001b[0m                                Traceback (most recent call last)",
      "Cell \u001b[1;32mIn[10], line 6\u001b[0m\n\u001b[0;32m      3\u001b[0m ans\u001b[38;5;241m=\u001b[39m\u001b[38;5;241m0\u001b[39m\n\u001b[0;32m      5\u001b[0m \u001b[38;5;28;01mfor\u001b[39;00m i \u001b[38;5;129;01min\u001b[39;00m \u001b[38;5;28mrange\u001b[39m(\u001b[38;5;28mlen\u001b[39m(A),\u001b[38;5;241m-\u001b[39m\u001b[38;5;241m1\u001b[39m,\u001b[38;5;241m-\u001b[39m\u001b[38;5;241m1\u001b[39m):\n\u001b[1;32m----> 6\u001b[0m     \u001b[38;5;28;01mif\u001b[39;00m \u001b[43mA\u001b[49m\u001b[43m[\u001b[49m\u001b[43mi\u001b[49m\u001b[43m]\u001b[49m\u001b[38;5;241m!=\u001b[39mA[i\u001b[38;5;241m-\u001b[39m\u001b[38;5;241m1\u001b[39m]:\n\u001b[0;32m      7\u001b[0m         ce\u001b[38;5;241m=\u001b[39mi\n\u001b[0;32m      8\u001b[0m     \u001b[38;5;28;01mif\u001b[39;00m ce\u001b[38;5;241m==\u001b[39mA[i]:\n",
      "\u001b[1;31mIndexError\u001b[0m: list index out of range"
     ]
    }
   ],
   "source": [
    "A=[1,2,3,0,9,3,6,0,6]\n",
    "ce=0\n",
    "ans=0\n",
    "\n",
    "for i in range(len(A),-1,-1):\n",
    "    if A[i]!=A[i-1]:\n",
    "        ce=i\n",
    "    if ce==A[i]:\n",
    "        ans+=1\n",
    "\n",
    "if ans==0:\n",
    "    print(0)\n",
    "else:\n",
    "    print(ans)"
   ]
  },
  {
   "cell_type": "code",
   "execution_count": 8,
   "id": "12d8244d",
   "metadata": {},
   "outputs": [
    {
     "name": "stdout",
     "output_type": "stream",
     "text": [
      "[0, 0, 1, 2, 3, 3, 6, 6, 9]\n",
      "2\n"
     ]
    }
   ],
   "source": [
    "A=[1,2,3,0,9,3,6,0,6]\n",
    "C=sorted(A)\n",
    "print(C)\n",
    "ce=0\n",
    "ans=0\n",
    "for i in range(len(C)-1,-1,-1):\n",
    "    if C[i]!=C[i-1]:\n",
    "        ce=i\n",
    "    if ce==C[i]:\n",
    "        ans+=1\n",
    "\n",
    "if ans==0:\n",
    "    print(0)\n",
    "else:\n",
    "    print(ans)"
   ]
  },
  {
   "cell_type": "code",
   "execution_count": 4,
   "id": "39d8b322",
   "metadata": {},
   "outputs": [
    {
     "name": "stdout",
     "output_type": "stream",
     "text": [
      "4\n"
     ]
    }
   ],
   "source": [
    "A=[0, 0, 1, 2, 3, 3, 6, 6, 9]\n",
    "ce=0\n",
    "ans=0\n",
    "if C[0]==0:\n",
    "    ans=1\n",
    "for i in range(1,len(C)):\n",
    "    if C[i]!=C[i-1]:\n",
    "        ce=i\n",
    "    if ce==C[i]:\n",
    "        ans+=1\n",
    "\n",
    "if ans==0:\n",
    "    print(0)\n",
    "else:\n",
    "    print(ans)"
   ]
  },
  {
   "cell_type": "code",
   "execution_count": 19,
   "id": "d547aaca",
   "metadata": {},
   "outputs": [
    {
     "data": {
      "text/plain": [
       "1"
      ]
     },
     "execution_count": 19,
     "metadata": {},
     "output_type": "execute_result"
    }
   ],
   "source": [
    "def prime(n):\n",
    "    if n<=1:\n",
    "        return 0\n",
    "    if n<=3:\n",
    "        return 1\n",
    "    if n%2==0 or n%3==0:\n",
    "        return 0\n",
    "    \n",
    "    i=5\n",
    "    while(i*i<n):\n",
    "        if n%i==0 or n%(i+2)==0:\n",
    "            return 0\n",
    "    i+=6\n",
    "    \n",
    "    return 1\n",
    "\n",
    "prime(17)"
   ]
  },
  {
   "cell_type": "code",
   "execution_count": 26,
   "id": "b3450092",
   "metadata": {},
   "outputs": [
    {
     "data": {
      "text/plain": [
       "2"
      ]
     },
     "execution_count": 26,
     "metadata": {},
     "output_type": "execute_result"
    }
   ],
   "source": [
    "def fact(n):\n",
    "    if n==0:\n",
    "        return 0\n",
    "    sums=0\n",
    "    for i in range(1,int(n**0.5)+1):\n",
    "        if n%i==0:\n",
    "            if i==n//2:\n",
    "                sums+=1\n",
    "            else:\n",
    "                sums+=2\n",
    "    return sums\n",
    "fact(41)\n",
    "            \n",
    "     "
   ]
  },
  {
   "cell_type": "code",
   "execution_count": 21,
   "id": "1c4207d2",
   "metadata": {},
   "outputs": [
    {
     "data": {
      "text/plain": [
       "9"
      ]
     },
     "execution_count": 21,
     "metadata": {},
     "output_type": "execute_result"
    }
   ],
   "source": [
    "def checkprime_factor(n):\n",
    "    if n<=0:\n",
    "        return 0\n",
    "    sums=0\n",
    "    for i in range(1,int(n**0.5)+1):\n",
    "        if n%i==0:\n",
    "            if i==n//i:\n",
    "                sums+=1\n",
    "            else:\n",
    "                sums+=2\n",
    "        a=sums\n",
    "    if a==2:\n",
    "        return 1\n",
    "    else:\n",
    "        return sums\n",
    "checkprime_factor(36)\n",
    "            \n",
    "     "
   ]
  },
  {
   "cell_type": "code",
   "execution_count": 83,
   "id": "3591dfaa",
   "metadata": {},
   "outputs": [
    {
     "name": "stdout",
     "output_type": "stream",
     "text": [
      "[5]\n"
     ]
    },
    {
     "ename": "IndexError",
     "evalue": "list index out of range",
     "output_type": "error",
     "traceback": [
      "\u001b[1;31m---------------------------------------------------------------------------\u001b[0m",
      "\u001b[1;31mIndexError\u001b[0m                                Traceback (most recent call last)",
      "Cell \u001b[1;32mIn[83], line 8\u001b[0m\n\u001b[0;32m      6\u001b[0m \u001b[38;5;28mprint\u001b[39m(D)\n\u001b[0;32m      7\u001b[0m E\u001b[38;5;241m=\u001b[39m\u001b[38;5;28mmax\u001b[39m(C)\n\u001b[1;32m----> 8\u001b[0m F\u001b[38;5;241m=\u001b[39m\u001b[43mD\u001b[49m\u001b[43m[\u001b[49m\u001b[38;5;241;43m-\u001b[39;49m\u001b[38;5;241;43m2\u001b[39;49m\u001b[43m]\u001b[49m\n\u001b[0;32m      9\u001b[0m \u001b[38;5;28mprint\u001b[39m (F\u001b[38;5;241m%\u001b[39mE)\n",
      "\u001b[1;31mIndexError\u001b[0m: list index out of range"
     ]
    }
   ],
   "source": [
    "A=[5,5,5,5,5]\n",
    "C=set(A)\n",
    "if len(A)<2:\n",
    "    print(0)\n",
    "D=sorted(C)\n",
    "print(D)\n",
    "E=max(C)\n",
    "F=D[-2]\n",
    "print (F%E)"
   ]
  },
  {
   "cell_type": "code",
   "execution_count": 87,
   "id": "1cc0ee97",
   "metadata": {},
   "outputs": [
    {
     "data": {
      "text/plain": [
       "0"
      ]
     },
     "execution_count": 87,
     "metadata": {},
     "output_type": "execute_result"
    }
   ],
   "source": [
    "def solve(A):\n",
    "        C=set(A)\n",
    "        D=sorted(C)\n",
    "        if len(C)<2:\n",
    "            return 0\n",
    "        E=max(D)\n",
    "        F=D[-2]\n",
    "        return (F%E)\n",
    "solve([3,3,3,3])"
   ]
  },
  {
   "cell_type": "code",
   "execution_count": 34,
   "id": "8388f64c",
   "metadata": {},
   "outputs": [
    {
     "name": "stdout",
     "output_type": "stream",
     "text": [
      "6\n",
      "66\n",
      "0\n",
      "66\n"
     ]
    }
   ],
   "source": [
    "A=[2,3,1,33,66,2]\n",
    "n=len(A)\n",
    "max_A=A[0]\n",
    "for i in range(1,len(A)):\n",
    "    if max_A<A[i]:\n",
    "        max_A=A[i]\n",
    "print(n)\n",
    "print(max_A)\n",
    "max_A=A[-1]\n",
    "print(A.index(max_A))\n",
    "max_2=A[0]\n",
    "for i in range(1,len(A)-1):\n",
    "    if max_2<A[i] and A[i]!=max_A:\n",
    "        max_2=A[i]\n",
    "print(max_2)"
   ]
  },
  {
   "cell_type": "code",
   "execution_count": 65,
   "id": "cabb1edd",
   "metadata": {},
   "outputs": [
    {
     "name": "stdout",
     "output_type": "stream",
     "text": [
      "20\n",
      "0\n",
      "[12, 20]\n",
      "12\n"
     ]
    }
   ],
   "source": [
    "A=[20,12]\n",
    "# A=[4,4,4]\n",
    "n=len(A)\n",
    "max_A=A[0]\n",
    "for i in range(1,len(A)):\n",
    "    if max_A<A[i]:\n",
    "        max_A=A[i]\n",
    "print(max_A)\n",
    "print(A.index(max_A))\n",
    "A.remove(max_A)\n",
    "A.insert(n-1, max_A)\n",
    "print(A)\n",
    "max_2=-1\n",
    "for i in range(0,len(A)-1):\n",
    "    if max_2<A[i] and A[i]!=max_A:\n",
    "        max_2=A[i]\n",
    "print(max_2)"
   ]
  },
  {
   "cell_type": "code",
   "execution_count": 76,
   "id": "a1139d5a",
   "metadata": {},
   "outputs": [
    {
     "name": "stdout",
     "output_type": "stream",
     "text": [
      "6\n"
     ]
    }
   ],
   "source": [
    "A=[1,4,5,7,2,4]\n",
    "P=[i for i in A]\n",
    "for i in range(n-2,-1,-1):\n",
    "    if P[i]<P[i+1]:\n",
    "        P[i]=P[i+1]\n",
    "temp_p=0\n",
    "p=0\n",
    "for i in range(len(A)):\n",
    "    temp_p=P[i]-A[i]\n",
    "    if p<temp_p:\n",
    "        p=temp_p\n",
    "print(p)"
   ]
  },
  {
   "cell_type": "code",
   "execution_count": 100,
   "id": "b505c908",
   "metadata": {},
   "outputs": [
    {
     "name": "stdout",
     "output_type": "stream",
     "text": [
      "0\n",
      "0\n",
      "0\n",
      "0\n",
      "0\n",
      "0\n",
      "0\n",
      "0\n",
      "0\n",
      "0\n",
      "0\n",
      "12\n",
      "0\n",
      "0\n",
      "0\n"
     ]
    }
   ],
   "source": [
    "A=[1,2,3,4,5]\n",
    "B=12\n",
    "sums=0\n",
    "C=len(A)\n",
    "for i in range(n):\n",
    "    sums=0\n",
    "    for j in range(i,n):\n",
    "        sums+=A[j]\n",
    "        if sums==B:\n",
    "            print(B)\n",
    "        else:\n",
    "            print(0)"
   ]
  },
  {
   "cell_type": "code",
   "execution_count": 112,
   "id": "243ef082",
   "metadata": {},
   "outputs": [
    {
     "data": {
      "text/plain": [
       "6"
      ]
     },
     "execution_count": 112,
     "metadata": {},
     "output_type": "execute_result"
    }
   ],
   "source": [
    "def solve(A,B):\n",
    "    C=len(A)\n",
    "    sums=0\n",
    "    ans=0\n",
    "    for i in range(C):\n",
    "        sums=0\n",
    "        for j in range(i,C):\n",
    "            sums+=A[j]\n",
    "            if sums<=B:\n",
    "                ans=max(sums,ans)\n",
    "    return ans\n",
    "solve([1,2,3],12)"
   ]
  },
  {
   "cell_type": "code",
   "execution_count": 120,
   "id": "1e53008b",
   "metadata": {},
   "outputs": [
    {
     "data": {
      "text/plain": [
       "0"
      ]
     },
     "execution_count": 120,
     "metadata": {},
     "output_type": "execute_result"
    }
   ],
   "source": [
    "def maxSubarray(C, B):\n",
    "        A=len(C)\n",
    "        ans=0\n",
    "        for i in range(A):\n",
    "            sums=0\n",
    "            for j in range(i,A):\n",
    "                sums+=C[j]\n",
    "                if sums<=B:\n",
    "                    ans=max(sums,ans)\n",
    "        return ans\n",
    "maxSubarray([2,2,2],1)"
   ]
  },
  {
   "cell_type": "markdown",
   "id": "c9d10a52",
   "metadata": {},
   "source": [
    "## Day 12"
   ]
  },
  {
   "cell_type": "code",
   "execution_count": 9,
   "id": "593ff469",
   "metadata": {},
   "outputs": [
    {
     "name": "stdout",
     "output_type": "stream",
     "text": [
      "44\n"
     ]
    }
   ],
   "source": [
    "c='a'\n",
    "d='A'\n",
    "e=ord('m')-ord('A')\n",
    "print(e)"
   ]
  },
  {
   "cell_type": "code",
   "execution_count": 16,
   "id": "0da451fb",
   "metadata": {},
   "outputs": [
    {
     "data": {
      "text/plain": [
       "'s'"
      ]
     },
     "execution_count": 16,
     "metadata": {},
     "output_type": "execute_result"
    }
   ],
   "source": [
    "chr(115)"
   ]
  },
  {
   "cell_type": "code",
   "execution_count": 1,
   "id": "6f6f189b",
   "metadata": {},
   "outputs": [
    {
     "name": "stdout",
     "output_type": "stream",
     "text": [
      "hEllO\n"
     ]
    }
   ],
   "source": [
    "s=\"HeLLo\"\n",
    "l=[]\n",
    "for i in s:\n",
    "    \n",
    "    if i>=chr(65) and i <=chr(90):\n",
    "        d=(ord(i)+32)\n",
    "        s=chr(d)\n",
    "        l.append(s)\n",
    "    else:\n",
    "        e=(ord(i)-32)\n",
    "        f=chr(e)\n",
    "        l.append(f)\n",
    "print(''.join(l))\n",
    "        \n",
    "    "
   ]
  },
  {
   "cell_type": "code",
   "execution_count": 18,
   "id": "360263a4",
   "metadata": {},
   "outputs": [
    {
     "data": {
      "text/plain": [
       "97"
      ]
     },
     "execution_count": 18,
     "metadata": {},
     "output_type": "execute_result"
    }
   ],
   "source": [
    "ord('A')+32"
   ]
  },
  {
   "cell_type": "code",
   "execution_count": 26,
   "id": "4254f91e",
   "metadata": {},
   "outputs": [
    {
     "data": {
      "text/plain": [
       "'hELlO'"
      ]
     },
     "execution_count": 26,
     "metadata": {},
     "output_type": "execute_result"
    }
   ],
   "source": [
    "s=\"HelLo\"\n",
    "s.swapcase()"
   ]
  },
  {
   "cell_type": "code",
   "execution_count": 27,
   "id": "aa479469",
   "metadata": {},
   "outputs": [
    {
     "data": {
      "text/plain": [
       "'A '"
      ]
     },
     "execution_count": 27,
     "metadata": {},
     "output_type": "execute_result"
    }
   ],
   "source": [
    "chr(65)+chr(32)"
   ]
  },
  {
   "cell_type": "code",
   "execution_count": 28,
   "id": "34981cc8",
   "metadata": {},
   "outputs": [
    {
     "data": {
      "text/plain": [
       "162"
      ]
     },
     "execution_count": 28,
     "metadata": {},
     "output_type": "execute_result"
    }
   ],
   "source": [
    "ord('A')+ord('a')"
   ]
  },
  {
   "cell_type": "code",
   "execution_count": 33,
   "id": "1396a781",
   "metadata": {},
   "outputs": [
    {
     "data": {
      "text/plain": [
       "'s'"
      ]
     },
     "execution_count": 33,
     "metadata": {},
     "output_type": "execute_result"
    }
   ],
   "source": [
    "chr(115)"
   ]
  },
  {
   "cell_type": "code",
   "execution_count": 56,
   "id": "ece4b5d3",
   "metadata": {},
   "outputs": [
    {
     "name": "stdout",
     "output_type": "stream",
     "text": [
      "True\n"
     ]
    }
   ],
   "source": [
    "s='level'\n",
    "i=0\n",
    "j=len(s)-1\n",
    "while(i<j):\n",
    "    if s[i]!=s[j]:\n",
    "        print(False)\n",
    "        break\n",
    "    i+=1\n",
    "    j-=1\n",
    "print(True)"
   ]
  },
  {
   "cell_type": "code",
   "execution_count": 62,
   "id": "1b346de3",
   "metadata": {},
   "outputs": [
    {
     "name": "stdout",
     "output_type": "stream",
     "text": [
      "9\n"
     ]
    }
   ],
   "source": [
    "a='adaebcdfdcbetggte'\n",
    "ans=0\n",
    "for i in range(len(a)):\n",
    "    length=1\n",
    "    l=i-1\n",
    "    r=i+1\n",
    "    while(l>=0 and r<len(a)):\n",
    "        if a[l]!=a[r]:\n",
    "            break\n",
    "        l-=1\n",
    "        r+=1\n",
    "        length+=2\n",
    "    ans=max(ans,length)\n",
    "print(ans)\n",
    "    "
   ]
  },
  {
   "cell_type": "code",
   "execution_count": 1,
   "id": "0769df85",
   "metadata": {},
   "outputs": [
    {
     "name": "stdout",
     "output_type": "stream",
     "text": [
      "8\n"
     ]
    }
   ],
   "source": [
    "a='ammmmaeddddea'\n",
    "ans=0\n",
    "for i in range(len(a)):\n",
    "    length=0\n",
    "    l=i\n",
    "    r=i+1\n",
    "    while(l>=0 and r<len(a)):\n",
    "        if a[l]!=a[r]:\n",
    "            break\n",
    "        l-=1\n",
    "        r+=1\n",
    "        length+=2\n",
    "    ans=max(ans,length)\n",
    "print(ans)\n",
    "    "
   ]
  },
  {
   "cell_type": "code",
   "execution_count": 48,
   "id": "3d5315ea",
   "metadata": {},
   "outputs": [
    {
     "data": {
      "text/plain": [
       "'###z###z'"
      ]
     },
     "execution_count": 48,
     "metadata": {},
     "output_type": "execute_result"
    }
   ],
   "source": [
    "def solve(S):\n",
    "    l = ''.join(ch for ch in S if not ch.isupper())\n",
    "    d=[]\n",
    "    for i in l:\n",
    "        if i=='a' or i=='e' or i=='o' or i=='i' or i=='u':\n",
    "            d.append('#')\n",
    "        else:\n",
    "            d.append(i)\n",
    "    return (''.join(d)*2)\n",
    "\n",
    "solve('aeiOUz')\n"
   ]
  },
  {
   "cell_type": "code",
   "execution_count": 24,
   "id": "940cb43c",
   "metadata": {},
   "outputs": [
    {
     "name": "stdout",
     "output_type": "stream",
     "text": [
      "['b', 'b', 'a', 'b', 'b', 'c', 'b', 'a']\n"
     ]
    }
   ],
   "source": [
    "a='abbabcdcba'\n",
    "l_s=[]\n",
    "r_s=[]\n",
    "\n",
    "ans_odd=0\n",
    "for i in range(len(a)):\n",
    "    length=1\n",
    "    l=i-1\n",
    "    r=i+1\n",
    "    while(l>=0 and r<len(a)):\n",
    "        if a[l]!=a[r]:\n",
    "            break\n",
    "        l-=1\n",
    "        r+=1\n",
    "        l_s.append(a[l])\n",
    "        r_s.append(a[r-1])\n",
    "print(l_s+r_s)\n",
    "    \n",
    "\n",
    "# ans_even=0\n",
    "# for i in range(len(a)):\n",
    "#     length=0\n",
    "#     l=i\n",
    "#     r=i+1\n",
    "#     while(l>=0 and r<len(a)):\n",
    "#         if a[l]!=a[r]:\n",
    "#             break\n",
    "#         l-=1\n",
    "#         r+=1\n",
    "#         length+=2\n",
    "#     ans_even=max(ans_even,length)\n",
    "\n",
    "\n",
    "# if ans_odd>ans_even:\n",
    "    \n",
    "# else:\n",
    "#     print(ans_even)"
   ]
  },
  {
   "cell_type": "markdown",
   "id": "b4eddc5a",
   "metadata": {},
   "source": [
    "a='bammmmmmmmabad'\n",
    "i=0\n",
    "l=[]\n",
    "j=len(a)-1\n",
    "while(i<=j):\n",
    "    if a[i]!=a[j]:\n",
    "           break\n",
    "    i+=1\n",
    "    j-=1\n",
    "print(a)"
   ]
  },
  {
   "cell_type": "code",
   "execution_count": 11,
   "id": "6aa8ac2b",
   "metadata": {},
   "outputs": [
    {
     "name": "stdout",
     "output_type": "stream",
     "text": [
      "1\n"
     ]
    }
   ],
   "source": [
    "A='scaler12'\n",
    "if A.isalnum():\n",
    "    print(1)"
   ]
  },
  {
   "cell_type": "code",
   "execution_count": 13,
   "id": "db9fff7b",
   "metadata": {},
   "outputs": [
    {
     "data": {
      "text/plain": [
       "0"
      ]
     },
     "execution_count": 13,
     "metadata": {},
     "output_type": "execute_result"
    }
   ],
   "source": [
    "def solve(A):\n",
    "    C=''.join(A)\n",
    "    if C.isalnum():\n",
    "        return 1\n",
    "    return 0\n",
    "\n",
    "solve(['s','c','a','l','e','r','2','0','#'])"
   ]
  },
  {
   "cell_type": "code",
   "execution_count": 53,
   "id": "db9649c7",
   "metadata": {},
   "outputs": [
    {
     "name": "stdout",
     "output_type": "stream",
     "text": [
      "4\n"
     ]
    }
   ],
   "source": [
    "A='bobobobob'\n",
    "cnt=0\n",
    "for i in range(len(A)-2):\n",
    "    if A[i:i+3]=='bob':\n",
    "        cnt+=1\n",
    "print(cnt)"
   ]
  },
  {
   "cell_type": "code",
   "execution_count": 108,
   "id": "645136b9",
   "metadata": {},
   "outputs": [
    {
     "name": "stdout",
     "output_type": "stream",
     "text": [
      "9\n"
     ]
    }
   ],
   "source": [
    "S = \"ABECE\"\n",
    "vowels='aeiouAEIOU'\n",
    "cnt=0\n",
    "for i in range(len(S)):\n",
    "    if S[i] in vowels:\n",
    "        cnt+=len(S)-i\n",
    "print(cnt)\n",
    "    \n",
    "\n"
   ]
  },
  {
   "cell_type": "code",
   "execution_count": 265,
   "id": "fac1cd7c",
   "metadata": {},
   "outputs": [
    {
     "name": "stdout",
     "output_type": "stream",
     "text": [
      "aba\n"
     ]
    }
   ],
   "source": [
    "def longest_common_prefix(strings):\n",
    "    if not strings:\n",
    "        return \"\"\n",
    "    if len(strings)==1:\n",
    "        return strings[0]\n",
    "\n",
    "    strings.sort()\n",
    "\n",
    "    first_string = strings[0]\n",
    "    last_string = strings[-1]\n",
    "    min_length = min(len(first_string), len(last_string))\n",
    "\n",
    "    i = 0\n",
    "    while i < min_length and first_string[i] == last_string[i]:\n",
    "        i += 1\n",
    "\n",
    "    \n",
    "    common_prefix = first_string[:i]\n",
    "    return common_prefix\n",
    "\n",
    "A = ['aba']\n",
    "result = longest_common_prefix(A)\n",
    "print(result)\n"
   ]
  },
  {
   "cell_type": "code",
   "execution_count": 17,
   "id": "b1b0c6dd",
   "metadata": {},
   "outputs": [
    {
     "name": "stdout",
     "output_type": "stream",
     "text": [
      "\n"
     ]
    }
   ],
   "source": [
    "A = ['aba','cazc','dabcd','abacd']\n",
    "A.sort()\n",
    "first_string = A[0]\n",
    "last_string = A[-1]\n",
    "min_length = min(len(first_string), len(last_string))\n",
    "\n",
    "i = 0\n",
    "while i < min_length and first_string[i] == last_string[i]:\n",
    "    i += 1\n",
    "common_prefix = first_string[:i]\n",
    "print(common_prefix)"
   ]
  },
  {
   "cell_type": "code",
   "execution_count": 132,
   "id": "43927a04",
   "metadata": {},
   "outputs": [
    {
     "name": "stdout",
     "output_type": "stream",
     "text": [
      "[0, 10, 14, 22]\n",
      "[15, 11, 3, 0]\n",
      "[15, 1, 11, 22]\n"
     ]
    }
   ],
   "source": [
    "nums=[10,4,8,3]\n",
    "n=len(nums)\n",
    "l_sum=[0]*n\n",
    "r_sum=[0]*n\n",
    "major=[0]*n\n",
    "l_sum[0]=0\n",
    "for i in range(1,n):\n",
    "    l_sum[i]=l_sum[i-1]+nums[i-1]\n",
    "print(l_sum)\n",
    "r_sum[n-1]=0\n",
    "for i in range(n-2,-1,-1):\n",
    "    r_sum[i]=r_sum[i+1]+nums[i+1]\n",
    "print(r_sum)\n",
    "for i in range(n):\n",
    "    if r_sum[i]>l_sum[i]:\n",
    "        major[i]=r_sum[i]-l_sum[i]\n",
    "    else:\n",
    "        major[i]=l_sum[i]-r_sum[i]\n",
    "print(major)"
   ]
  },
  {
   "cell_type": "code",
   "execution_count": 273,
   "id": "d00b4030",
   "metadata": {},
   "outputs": [
    {
     "name": "stdout",
     "output_type": "stream",
     "text": [
      "-5\n",
      "6\n"
     ]
    }
   ],
   "source": [
    "nums = [1,-2,-4,3,2]\n",
    "for i in range(1,len(nums)):\n",
    "    nums[i]+=nums[i-1]\n",
    "    \n",
    "temp=min(nums)\n",
    "print(temp)\n",
    "if temp>0:\n",
    "    print(1)\n",
    "else:\n",
    "    print(-temp+1)\n",
    "    "
   ]
  },
  {
   "cell_type": "markdown",
   "id": "925eb80b",
   "metadata": {},
   "source": [
    "## Day 13"
   ]
  },
  {
   "cell_type": "code",
   "execution_count": 290,
   "id": "d00df8be",
   "metadata": {},
   "outputs": [
    {
     "name": "stdout",
     "output_type": "stream",
     "text": [
      "{'Monday': 1, 'Tuesday': 2, 'Wednesday': 3, 'Thursday': 4, 'Friday': 5, 'Saturday': 6, 'Sunday': 7}\n"
     ]
    }
   ],
   "source": [
    "my_dict = {\n",
    "        \"Monday\": 1,\n",
    "        \"Tuesday\": 2,\n",
    "        \"Wednesday\": 3,\n",
    "        \"Thursday\": 4,\n",
    "        \"Friday\": 5,\n",
    "        \"Saturday\": 6,\n",
    "        \"Sunday\": 0\n",
    "    }\n",
    "\n",
    "    # update value for key \"Sunday\" to 7\n",
    "my_dict['Sunday']=7\n",
    "print(my_dict)"
   ]
  },
  {
   "cell_type": "code",
   "execution_count": 300,
   "id": "5bdad1d2",
   "metadata": {},
   "outputs": [
    {
     "data": {
      "text/plain": [
       "{1, 2, 3, 4, 5, 6}"
      ]
     },
     "execution_count": 300,
     "metadata": {},
     "output_type": "execute_result"
    }
   ],
   "source": [
    "s={1,2}\n",
    "s.update({3,4,5,6})\n",
    "s"
   ]
  },
  {
   "cell_type": "code",
   "execution_count": 23,
   "id": "f301ebaa",
   "metadata": {},
   "outputs": [
    {
     "name": "stdout",
     "output_type": "stream",
     "text": [
      "[0, 0, 0, 0, 0, 0, 0, 0]\n"
     ]
    },
    {
     "ename": "IndexError",
     "evalue": "list index out of range",
     "output_type": "error",
     "traceback": [
      "\u001b[1;31m---------------------------------------------------------------------------\u001b[0m",
      "\u001b[1;31mIndexError\u001b[0m                                Traceback (most recent call last)",
      "Cell \u001b[1;32mIn[23], line 7\u001b[0m\n\u001b[0;32m      5\u001b[0m \u001b[38;5;28mprint\u001b[39m(F)\n\u001b[0;32m      6\u001b[0m \u001b[38;5;28;01mfor\u001b[39;00m i \u001b[38;5;129;01min\u001b[39;00m B:\n\u001b[1;32m----> 7\u001b[0m     x\u001b[38;5;241m=\u001b[39m\u001b[43mB\u001b[49m\u001b[43m[\u001b[49m\u001b[43mi\u001b[49m\u001b[43m]\u001b[49m\n\u001b[0;32m      8\u001b[0m     \u001b[38;5;28mprint\u001b[39m(F[x])\n",
      "\u001b[1;31mIndexError\u001b[0m: list index out of range"
     ]
    }
   ],
   "source": [
    "A=[2,6,3,8,2,6,8]\n",
    "max_A=max(A)\n",
    "B=[2,3]\n",
    "F=[0]*max_A\n",
    "print(F)\n",
    "for i in B:\n",
    "    x=B[i]\n",
    "    print(F[x])"
   ]
  },
  {
   "cell_type": "code",
   "execution_count": 74,
   "id": "a4eda060",
   "metadata": {},
   "outputs": [
    {
     "data": {
      "text/plain": [
       "[0]"
      ]
     },
     "execution_count": 74,
     "metadata": {},
     "output_type": "execute_result"
    }
   ],
   "source": [
    "# A=[2,6,3,8,2,3,6,8,14]\n",
    "# Q=[2,14]\n",
    "def solve(A,B):\n",
    "    l=[]\n",
    "    mp={}\n",
    "    for i in range(len(A)):\n",
    "        if A[i] in mp:\n",
    "            f = mp[A[i]]\n",
    "            mp[A[i]] = f + 1\n",
    "        else:\n",
    "            mp.setdefault(A[i], 1)\n",
    "\n",
    "    for i in range(len(B)):\n",
    "        x = B[i]\n",
    "        if x in mp:\n",
    "            l.append((mp[x]))\n",
    "        else:\n",
    "            l.append(0)\n",
    "    return l\n",
    "\n",
    "\n",
    "solve([2,6,3,8,2,3,5,6,8],[10])\n",
    "\n",
    "    \n",
    "    "
   ]
  },
  {
   "cell_type": "code",
   "execution_count": 18,
   "id": "83286777",
   "metadata": {},
   "outputs": [
    {
     "ename": "TypeError",
     "evalue": "'int' object is not iterable",
     "output_type": "error",
     "traceback": [
      "\u001b[1;31m---------------------------------------------------------------------------\u001b[0m",
      "\u001b[1;31mTypeError\u001b[0m                                 Traceback (most recent call last)",
      "Cell \u001b[1;32mIn[18], line 27\u001b[0m\n\u001b[0;32m     25\u001b[0m arr \u001b[38;5;241m=\u001b[39m [\u001b[38;5;241m4\u001b[39m, \u001b[38;5;241m2\u001b[39m, \u001b[38;5;241m-\u001b[39m\u001b[38;5;241m3\u001b[39m, \u001b[38;5;241m-\u001b[39m\u001b[38;5;241m1\u001b[39m, \u001b[38;5;241m0\u001b[39m, \u001b[38;5;241m4\u001b[39m]\n\u001b[0;32m     26\u001b[0m result \u001b[38;5;241m=\u001b[39m find_subarrays_with_sum_zero(arr)\n\u001b[1;32m---> 27\u001b[0m \u001b[38;5;28;01mfor\u001b[39;00m subarray \u001b[38;5;129;01min\u001b[39;00m result:\n\u001b[0;32m     28\u001b[0m     \u001b[38;5;28mprint\u001b[39m(subarray)\n",
      "\u001b[1;31mTypeError\u001b[0m: 'int' object is not iterable"
     ]
    }
   ],
   "source": [
    "def find_subarrays_with_sum_zero(arr):\n",
    "    # Initialize a dictionary to store prefix sums and their positions\n",
    "    prefix_sum_dict = {0: [-1]}\n",
    "    current_sum = 0\n",
    "    subarrays = []\n",
    "\n",
    "    for i in range(len(arr)):\n",
    "        current_sum += arr[i]\n",
    "\n",
    "        # If the current_sum is in the dictionary, it means we found a subarray with a sum of zero\n",
    "        if current_sum in prefix_sum_dict:\n",
    "            positions = prefix_sum_dict[current_sum]\n",
    "            for pos in positions:\n",
    "                subarrays.append(arr[pos + 1:i + 1])\n",
    "\n",
    "        # Add the current_sum to the dictionary or update its positions\n",
    "        if current_sum in prefix_sum_dict:\n",
    "            prefix_sum_dict[current_sum].append(i)\n",
    "        else:\n",
    "            prefix_sum_dict[current_sum] = [i]\n",
    "\n",
    "    return 1\n",
    "\n",
    "# Example usage:\n",
    "arr = [4, 2, -3, -1, 0, 4]\n",
    "result = find_subarrays_with_sum_zero(arr)\n",
    "for subarray in result:\n",
    "    print(subarray)\n"
   ]
  },
  {
   "cell_type": "code",
   "execution_count": 90,
   "id": "ec7ede21",
   "metadata": {},
   "outputs": [
    {
     "name": "stdout",
     "output_type": "stream",
     "text": [
      "{0: [-1]}\n",
      "4\n",
      "6\n",
      "3\n",
      "2\n",
      "2\n",
      "6\n",
      "[0]\n",
      "[-3, -1, 0, 4]\n"
     ]
    }
   ],
   "source": [
    "arr = [4, 2, -3, -1, 0, 4]\n",
    "cumulative_sum = 0\n",
    "cumulative_sum_dict = {0: [-1]}\n",
    "print(cumulative_sum_dict)\n",
    "subarrays = []\n",
    "\n",
    "for i in range(len(arr)):\n",
    "    cumulative_sum += arr[i]\n",
    "    print(cumulative_sum)\n",
    "\n",
    "    if cumulative_sum in cumulative_sum_dict:\n",
    "        indices = cumulative_sum_dict[cumulative_sum]\n",
    "        for index in indices:\n",
    "            subarrays.append(arr[index + 1:i + 1])\n",
    "\n",
    "    if cumulative_sum in cumulative_sum_dict:\n",
    "        cumulative_sum_dict[cumulative_sum].append(i)\n",
    "    else:\n",
    "        cumulative_sum_dict[cumulative_sum] = [i]\n",
    "\n",
    "for subarray in subarrays:\n",
    "    print(subarray)\n"
   ]
  },
  {
   "cell_type": "code",
   "execution_count": 98,
   "id": "076aad41",
   "metadata": {},
   "outputs": [
    {
     "data": {
      "text/plain": [
       "3"
      ]
     },
     "execution_count": 98,
     "metadata": {},
     "output_type": "execute_result"
    }
   ],
   "source": [
    "A=[3,5,6,5,6]\n",
    "c=set(A)\n",
    "len(c)\n"
   ]
  },
  {
   "cell_type": "code",
   "execution_count": 19,
   "id": "da21d3f6",
   "metadata": {},
   "outputs": [],
   "source": [
    "def solve(A):\n",
    "    mp={}\n",
    "    for i in range(len(A)):\n",
    "        if A[i] in mp:\n",
    "            f = mp[A[i]]\n",
    "            mp[A[i]] = f + 1\n",
    "        else:\n",
    "            mp.setdefault(A[i], 1)\n",
    "    for i in range(len(A)):\n",
    "        if mp.get(A[i]==1):\n",
    "            return A[i]\n",
    "        \n",
    "solve([2,3,5])\n"
   ]
  },
  {
   "cell_type": "code",
   "execution_count": 2,
   "id": "0cd2971f",
   "metadata": {},
   "outputs": [
    {
     "data": {
      "text/plain": [
       "3"
      ]
     },
     "execution_count": 2,
     "metadata": {},
     "output_type": "execute_result"
    }
   ],
   "source": [
    "def countZeroSumSubarrays(A):\n",
    "    MOD = 10**9 + 7\n",
    "    prefix_sum = 0\n",
    "    prefix_sum_count = {0: 1}  # To keep track of prefix sums and their counts\n",
    "    count = 0\n",
    "    \n",
    "    for num in A:\n",
    "        prefix_sum += num\n",
    "        if prefix_sum in prefix_sum_count:\n",
    "            count += prefix_sum_count[prefix_sum]\n",
    "            prefix_sum_count[prefix_sum] += 1\n",
    "        else:\n",
    "            prefix_sum_count[prefix_sum] = 1\n",
    "    \n",
    "    return count % MOD\n",
    "\n",
    "countZeroSumSubarrays([1,-1,2,-2])\n"
   ]
  },
  {
   "cell_type": "code",
   "execution_count": 1,
   "id": "ed43fb96",
   "metadata": {},
   "outputs": [],
   "source": [
    "def solve(self, A, B):\n",
    "        mp={}\n",
    "        l=[]\n",
    "        for i in range(len(A)):\n",
    "            if A[i] in mp:\n",
    "                f=mp[A[i]]\n",
    "                mp[A[i]]=f+1\n",
    "            else:\n",
    "                mp.setdefault(A[i],1)\n",
    "        for i in range(len(B)):\n",
    "            x=B[i]\n",
    "            if x in mp:\n",
    "                l.append(mp[x])\n",
    "            else:\n",
    "                l.append(0)\n",
    "        return l\n",
    "                \n"
   ]
  },
  {
   "cell_type": "code",
   "execution_count": 2,
   "id": "609dfd62",
   "metadata": {},
   "outputs": [],
   "source": [
    "def solve(self, A):\n",
    "        # Just write your code below to complete the function. Required input is available to you as the function arguments.\n",
    "        # Do not print the result or any output. Just return the result via this function.\n",
    "        p_sum=set()\n",
    "        pre_sum=0\n",
    "        for i in A:\n",
    "            pre_sum+=i\n",
    "            if pre_sum==0 or pre_sum in p_sum:\n",
    "                return 1\n",
    "            p_sum.add(pre_sum)\n",
    "        return 0\n"
   ]
  },
  {
   "cell_type": "code",
   "execution_count": 4,
   "id": "1f604a70",
   "metadata": {},
   "outputs": [],
   "source": [
    " def solve(self, A):\n",
    "        mod=10**9+7\n",
    "        p_sum=0\n",
    "        p_sum_cnt={0:1}\n",
    "        cnt=0\n",
    "        for i in A:\n",
    "            p_sum+=i\n",
    "            if p_sum in p_sum_cnt:\n",
    "                cnt+=p_sum_cnt[p_sum]\n",
    "                p_sum_cnt[p_sum]+=1\n",
    "            else:\n",
    "                p_sum_cnt[p_sum]=1\n",
    "        return cnt%mod"
   ]
  },
  {
   "cell_type": "code",
   "execution_count": 5,
   "id": "f808d709",
   "metadata": {},
   "outputs": [],
   "source": [
    " def solve(self, A):\n",
    "        ele_cnt={}\n",
    "        for i in A:\n",
    "            if i not in ele_cnt:\n",
    "                ele_cnt[i]=1\n",
    "            else:\n",
    "                ele_cnt[i]+=1\n",
    "        cnt=0\n",
    "        for ele,freq in ele_cnt.items():\n",
    "            if freq==1:\n",
    "                cnt+=1\n",
    "        return cnt"
   ]
  },
  {
   "cell_type": "markdown",
   "id": "ec2f065f",
   "metadata": {},
   "source": [
    "##  Day 14\n"
   ]
  },
  {
   "cell_type": "code",
   "execution_count": 17,
   "id": "d5ecede3",
   "metadata": {},
   "outputs": [
    {
     "name": "stdout",
     "output_type": "stream",
     "text": [
      "3\n"
     ]
    }
   ],
   "source": [
    "A=[1,0,1,0,1,0,1,0,1,0]\n",
    "ans=0\n",
    "for i in range(len(A)):\n",
    "    if A[i]==0:\n",
    "        cnt=1\n",
    "        for j in range(i-1,-1,-1):\n",
    "            if A[j]==1:\n",
    "                cnt+=1\n",
    "            else:\n",
    "                break\n",
    "        for j in range(i+1,len(A)):\n",
    "            if A[j]==1:\n",
    "                cnt+=1\n",
    "            else:\n",
    "                break\n",
    "        ans=max(ans,cnt)\n",
    "if ans==0:\n",
    "    print(len(A))\n",
    "else:\n",
    "    print(ans)\n",
    "            "
   ]
  },
  {
   "cell_type": "code",
   "execution_count": 40,
   "id": "8d5ef023",
   "metadata": {},
   "outputs": [],
   "source": [
    "A=[[1,2,3,4],[5,6,7,0],[4,5,0,2]]\n",
    "n=len(A)\n",
    "m=len(A[0])\n",
    "for i in range(n):\n",
    "    for j in range(m):\n",
    "           pass\n",
    "    \n",
    "            \n",
    "            \n"
   ]
  },
  {
   "cell_type": "code",
   "execution_count": 16,
   "id": "df0d76d4",
   "metadata": {},
   "outputs": [
    {
     "name": "stdout",
     "output_type": "stream",
     "text": [
      "9\n"
     ]
    }
   ],
   "source": [
    "a='adaebcdfdcbetggte'\n",
    "li=[]\n",
    "ans=0\n",
    "for i in range(len(a)):\n",
    "    length=1\n",
    "    l=i-1\n",
    "    r=i+1\n",
    "    while(l>=0 and r<len(a)):\n",
    "        if a[l]!=a[r]:\n",
    "            break\n",
    "        l-=1\n",
    "        r+=1\n",
    "        length+=2\n",
    "    ans=max(ans,length)\n",
    "\n",
    "print(ans)\n",
    "    "
   ]
  },
  {
   "cell_type": "code",
   "execution_count": 3,
   "id": "2b304f99",
   "metadata": {},
   "outputs": [
    {
     "name": "stdout",
     "output_type": "stream",
     "text": [
      "8\n"
     ]
    }
   ],
   "source": [
    "a='ammmmaeddddea'\n",
    "ans=0\n",
    "for i in range(len(a)):\n",
    "    length=0\n",
    "    l=i\n",
    "    r=i+1\n",
    "    while(l>=0 and r<len(a)):\n",
    "        if a[l]!=a[r]:\n",
    "            break\n",
    "        l-=1\n",
    "        r+=1\n",
    "        length+=2\n",
    "    ans=max(ans,length)\n",
    "print(ans)\n",
    "    "
   ]
  },
  {
   "cell_type": "code",
   "execution_count": 34,
   "id": "1779a248",
   "metadata": {},
   "outputs": [
    {
     "name": "stdout",
     "output_type": "stream",
     "text": [
      "a 2\n",
      "b 2\n",
      "c 2\n",
      "d 1\n"
     ]
    }
   ],
   "source": [
    "a=\"abcdbac\"\n",
    "l=[]\n",
    "for i in a:\n",
    "    l.append(i)\n",
    "\n",
    "\n",
    "cnt={}\n",
    "for i in l:\n",
    "    i=i.strip(\".\").lower()\n",
    "    if i in cnt:\n",
    "        cnt[i]+=1\n",
    "    else:\n",
    "        cnt[i]=1\n",
    "for word, freq in cnt.items():\n",
    "    print(word,freq)"
   ]
  },
  {
   "cell_type": "code",
   "execution_count": 2,
   "id": "47b04a4d",
   "metadata": {},
   "outputs": [
    {
     "data": {
      "text/plain": [
       "9"
      ]
     },
     "execution_count": 2,
     "metadata": {},
     "output_type": "execute_result"
    }
   ],
   "source": [
    "def solve(a):\n",
    "    \n",
    "    cnt={}\n",
    "    for i in a:\n",
    "        \n",
    "        if i in cnt:\n",
    "            cnt[i]+=1\n",
    "        else:\n",
    "            cnt[i]=1\n",
    "    length=0\n",
    "    for i in cnt.values():\n",
    "        length+=(i//2)*2\n",
    "\n",
    "    if length<len(a):\n",
    "        length+=1\n",
    "        \n",
    "    return length\n",
    "\n",
    "solve('abcabcdde')         "
   ]
  },
  {
   "cell_type": "markdown",
   "id": "0a49f7f3",
   "metadata": {},
   "source": [
    "##  Day 15"
   ]
  },
  {
   "cell_type": "code",
   "execution_count": 23,
   "id": "999cc135",
   "metadata": {},
   "outputs": [
    {
     "name": "stdout",
     "output_type": "stream",
     "text": [
      "-1\n"
     ]
    }
   ],
   "source": [
    "A=[1,2,2,3,1,3]\n",
    "freq=0\n",
    "maj=-1\n",
    "for i in range(len(A)):\n",
    "    if freq==0:\n",
    "        freq+=1\n",
    "        maj=A[i]\n",
    "    elif A[i]==maj:\n",
    "        freq+=1\n",
    "    else:\n",
    "        freq-=1\n",
    "        \n",
    "for i in range(len(A)):\n",
    "    if A[i]==maj:\n",
    "        freq+=1\n",
    "    \n",
    "if freq>len(A)//3:\n",
    "    print(maj)\n",
    "else:\n",
    "    print(-1)\n",
    "            "
   ]
  },
  {
   "cell_type": "code",
   "execution_count": 32,
   "id": "72eff73f",
   "metadata": {},
   "outputs": [
    {
     "name": "stdout",
     "output_type": "stream",
     "text": [
      "-1\n",
      "-1\n",
      "-1\n"
     ]
    },
    {
     "data": {
      "text/plain": [
       "[]"
      ]
     },
     "execution_count": 32,
     "metadata": {},
     "output_type": "execute_result"
    }
   ],
   "source": [
    "A=[1,2,3]\n",
    "c_A={}\n",
    "for i in A:\n",
    "    if i in c_A:\n",
    "        c_A[i]+=1\n",
    "    else:\n",
    "        c_A[i]=1\n",
    "l=[]\n",
    "for  i,j in c_A.items():\n",
    "    if j>len(A)//3:\n",
    "        print(1)\n",
    "    else:\n",
    "        print(-1)\n",
    "        \n",
    "l"
   ]
  },
  {
   "cell_type": "code",
   "execution_count": 47,
   "id": "3d0ef814",
   "metadata": {},
   "outputs": [
    {
     "name": "stdout",
     "output_type": "stream",
     "text": [
      "1\n"
     ]
    }
   ],
   "source": [
    "operation=[\"--X\",\"X++\",\"X++\"]\n",
    "l=0\n",
    "n=len(operation)\n",
    "for i in range(n):\n",
    "    if operation[i]==\"--X\"or  operation[i]==\"X--\":\n",
    "        l-=1\n",
    "    elif operation[i]==\"++X\" or  operation[i]==\"X++\":\n",
    "            l+=1\n",
    "print(l)"
   ]
  },
  {
   "cell_type": "code",
   "execution_count": 64,
   "id": "8bc91fcf",
   "metadata": {},
   "outputs": [
    {
     "name": "stdout",
     "output_type": "stream",
     "text": [
      "Goal\n"
     ]
    }
   ],
   "source": [
    "a=\"G()(al)\"\n",
    "print(a.replace(\"()\",\"o\").replace(\"(al)\",\"al\"))\n",
    "    \n"
   ]
  },
  {
   "cell_type": "code",
   "execution_count": 95,
   "id": "6f824648",
   "metadata": {},
   "outputs": [
    {
     "name": "stdout",
     "output_type": "stream",
     "text": [
      "6\n"
     ]
    }
   ],
   "source": [
    "s =[\"alice and bob love leetcode\", \"i think so too\", \"this is great thanks very much\"]\n",
    "ans=0\n",
    "l=0\n",
    "for i in s:\n",
    "    l=(len(i.split()))\n",
    "    ans=max(ans,l)\n",
    "print(ans)\n",
    "    "
   ]
  },
  {
   "cell_type": "markdown",
   "id": "f26daede",
   "metadata": {},
   "source": [
    "## Day 16"
   ]
  },
  {
   "cell_type": "code",
   "execution_count": 1,
   "id": "c2bfb975",
   "metadata": {},
   "outputs": [
    {
     "name": "stdout",
     "output_type": "stream",
     "text": [
      "6\n"
     ]
    }
   ],
   "source": [
    "#Kadane Algorithm\n",
    "A = [-2, 1, -3, 4, -1, 2, 1, -5, 4] \n",
    "\n",
    "sums=0\n",
    "ans=float(\"-inf\")\n",
    "for i in range(len(A)):\n",
    "    sums+=A[i]\n",
    "    ans=max(sums,ans)\n",
    "    if sums<0:\n",
    "        sums=0\n",
    "print(ans)"
   ]
  },
  {
   "cell_type": "code",
   "execution_count": 18,
   "id": "0b1885b2",
   "metadata": {},
   "outputs": [
    {
     "name": "stdout",
     "output_type": "stream",
     "text": [
      "3 6\n",
      "6\n"
     ]
    }
   ],
   "source": [
    "A = [-2, 1, -3, 4, -1, 2, 1, -5, 4] \n",
    "sums=0\n",
    "ans=float(\"-inf\")\n",
    "st=0\n",
    "for i in range(len(A)):\n",
    "    sums+=A[i]\n",
    "    if sums>ans:\n",
    "        ans=max(sums,ans)\n",
    "        L=st\n",
    "        R=i\n",
    "    if sums<0:\n",
    "        sums=0\n",
    "        st=i+1\n",
    "        \n",
    "print(L,R)\n",
    "print(ans)"
   ]
  },
  {
   "cell_type": "code",
   "execution_count": 9,
   "id": "7acd0111",
   "metadata": {},
   "outputs": [
    {
     "data": {
      "text/plain": [
       "[1, 4, 4, 4, 4, 4]"
      ]
     },
     "execution_count": 9,
     "metadata": {},
     "output_type": "execute_result"
    }
   ],
   "source": [
    "# Queries to find final array after performing multiple arrays.\n",
    "def solve(A,B):\n",
    "    A=[0]*A\n",
    "    Q=len(B)\n",
    "    for i in range(len(B)):\n",
    "        A[B[i][0]]+=B[i][1]\n",
    "    for i in range(1,len(A)):\n",
    "        A[i]=A[i-1]+A[i]\n",
    "    return A\n",
    "\n",
    "solve(6,[[1,3],[0,1]])"
   ]
  },
  {
   "cell_type": "code",
   "execution_count": 97,
   "id": "8194d9c6",
   "metadata": {},
   "outputs": [
    {
     "data": {
      "text/plain": [
       "[10, 55, 45, 25, 25]"
      ]
     },
     "execution_count": 97,
     "metadata": {},
     "output_type": "execute_result"
    }
   ],
   "source": [
    "def solve(A,B):\n",
    "    A=[0]*A\n",
    "    for i in range(Q):\n",
    "        A[B[i][0]-1]+=B[i][2]\n",
    "        if B[i][1]<len(A):\n",
    "            A[B[i][1]]-=B[i][2]\n",
    "            \n",
    "    for i in range(1,len(A)):\n",
    "        A[i]=A[i-1]+A[i]\n",
    "    return A\n",
    "\n",
    "solve(5,[[1, 2, 10], [2, 3, 20], [2, 5, 25]])"
   ]
  },
  {
   "cell_type": "code",
   "execution_count": 100,
   "id": "5dc100ac",
   "metadata": {},
   "outputs": [
    {
     "data": {
      "text/plain": [
       "[10, 55, 45, 25, 25]"
      ]
     },
     "execution_count": 100,
     "metadata": {},
     "output_type": "execute_result"
    }
   ],
   "source": [
    "def solve(A,B):\n",
    "    A=[0]*A\n",
    "    for i in B:\n",
    "        L,R,P=i[0],i[1],i[2]\n",
    "        A[L-1]+=P\n",
    "        if R<len(A):\n",
    "            A[R]-=P\n",
    "    for i in range(1,len(A)):\n",
    "        A[i]=A[i-1]+A[i]\n",
    "    return A\n",
    "\n",
    "solve(5,[[1, 2, 10], [2, 3, 20], [2, 5, 25]])"
   ]
  },
  {
   "cell_type": "code",
   "execution_count": 107,
   "id": "faec1aa4",
   "metadata": {},
   "outputs": [
    {
     "data": {
      "text/plain": [
       "[10, 55, 45, 25, 25]"
      ]
     },
     "execution_count": 107,
     "metadata": {},
     "output_type": "execute_result"
    }
   ],
   "source": [
    "def solve(A,B):\n",
    "    A=[0]*A\n",
    "    for i in range(Q):\n",
    "        A[B[i][0]-1]+=B[i][2]\n",
    "        if B[i][1]<len(A):\n",
    "            A[B[i][1]]-=B[i][2]\n",
    "            \n",
    "    for i in range(1,len(A)):\n",
    "        A[i]=A[i-1]+A[i]\n",
    "    return A\n",
    "\n",
    "solve(5,[[1, 2, 10], [2, 3, 20], [2, 5, 25]])"
   ]
  },
  {
   "cell_type": "code",
   "execution_count": 112,
   "id": "a0218d01",
   "metadata": {},
   "outputs": [
    {
     "name": "stdout",
     "output_type": "stream",
     "text": [
      "5\n"
     ]
    }
   ],
   "source": [
    "A=[2,1,4,3,1,6,2]\n",
    "max_L=[i for i in A]\n",
    "max_R=[i for i in A]\n",
    "for i in range(1,len(A)):\n",
    "    max_L[i]=max(max_L[i-1],A[i])\n",
    "\n",
    "for i in range(len(A)-2,-1,-1):\n",
    "    max_R[i]=max(max_R[i+1],A[i])    \n",
    "\n",
    "ans=0\n",
    "for i in range(1,len(A)-1):\n",
    "    ans+=min(max_L[i],max_R[i])-A[i]\n",
    "print(ans)\n",
    "    "
   ]
  },
  {
   "cell_type": "code",
   "execution_count": 1,
   "id": "d9b9bae1",
   "metadata": {},
   "outputs": [
    {
     "name": "stdout",
     "output_type": "stream",
     "text": [
      "4\n"
     ]
    }
   ],
   "source": [
    "A=[2,1,4,3,2,6,3]\n",
    "res=0\n",
    "l,r=0,len(A)-1\n",
    "l_max,r_max=A[l],A[r]\n",
    "while(l<r):\n",
    "    if l_max<r_max:\n",
    "        l+=1\n",
    "        l_max=max(l_max,A[l])\n",
    "        res+=l_max-A[l]\n",
    "    else:\n",
    "        r-=1\n",
    "        r_max=max(r_max,A[r])\n",
    "        res+=r_max-A[r]\n",
    "print(res)\n"
   ]
  },
  {
   "cell_type": "markdown",
   "id": "264319ac",
   "metadata": {},
   "source": [
    "## Day 17"
   ]
  },
  {
   "cell_type": "code",
   "execution_count": 30,
   "id": "d811676b",
   "metadata": {},
   "outputs": [
    {
     "data": {
      "text/plain": [
       "1011"
      ]
     },
     "execution_count": 30,
     "metadata": {},
     "output_type": "execute_result"
    }
   ],
   "source": [
    "def solve(mat,k):\n",
    "    n=len(mat)\n",
    "    m=len(mat[0])\n",
    "    i=0\n",
    "    j=m-1\n",
    "    while(i<n and i>=0 and j<m and j>=0):\n",
    "        if mat[i][j]==k:\n",
    "            if j-1>=0 and mat[i][j-1]==k:\n",
    "                j-=1\n",
    "                continue\n",
    "            return (i+1)*1009+(j+1)\n",
    "        elif mat[i][j]>=k:\n",
    "            j-=1\n",
    "        else:\n",
    "            i+=1\n",
    "\n",
    "    return False\n",
    "\n",
    "solve([[2,8,8,8],[2,8,8,8],[2,8,8,8]],8)\n"
   ]
  },
  {
   "cell_type": "code",
   "execution_count": 43,
   "id": "1f198948",
   "metadata": {},
   "outputs": [
    {
     "name": "stdout",
     "output_type": "stream",
     "text": [
      "1\n",
      "2\n",
      "3\n",
      "6\n",
      "9\n",
      "8\n",
      "7\n",
      "4\n",
      "5\n"
     ]
    }
   ],
   "source": [
    "def solve(A):\n",
    "    r=0\n",
    "    c=0\n",
    "    n=len(A)\n",
    "    while(n>1):\n",
    "        i=r\n",
    "        j=c\n",
    "        for k in range(1,n):\n",
    "            print(A[i][j])\n",
    "            j+=1\n",
    "            \n",
    "        for k in range(1,n):\n",
    "            print(A[i][j])\n",
    "            i+=1\n",
    "        for k in range(1,n):\n",
    "            print(A[i][j])\n",
    "            j-=1\n",
    "        for k in range(1,n):\n",
    "            print(A[i][j])\n",
    "            i-=1\n",
    "        r+=1\n",
    "        c+=1\n",
    "        n-=2\n",
    "        \n",
    "    if n==1:\n",
    "        print(A[r][c])\n",
    "\n",
    "solve([[1,2,3],[4,5,6],[7,8,9]])\n",
    "            "
   ]
  },
  {
   "cell_type": "code",
   "execution_count": 2,
   "id": "31f66b16",
   "metadata": {},
   "outputs": [
    {
     "name": "stdout",
     "output_type": "stream",
     "text": [
      "[1, 2, 3]\n",
      "[8, 9, 4]\n",
      "[7, 6, 5]\n"
     ]
    }
   ],
   "source": [
    "def generateMatrix(A):\n",
    "   \n",
    "    matrix = [[0] * A for _ in range(A)]\n",
    "\n",
    "    num = 1 \n",
    "    top, bottom, left, right = 0, A - 1, 0, A - 1\n",
    "\n",
    "    while num <= A * A:\n",
    "  \n",
    "        for i in range(left, right + 1):\n",
    "            matrix[top][i] = num\n",
    "            num += 1\n",
    "        top += 1\n",
    "\n",
    "        for i in range(top, bottom + 1):\n",
    "            matrix[i][right] = num\n",
    "            num += 1\n",
    "        right -= 1\n",
    "\n",
    "        for i in range(right, left - 1, -1):\n",
    "            matrix[bottom][i] = num\n",
    "            num += 1\n",
    "        bottom -= 1\n",
    "\n",
    "        for i in range(bottom, top - 1, -1):\n",
    "            matrix[i][left] = num\n",
    "            num += 1\n",
    "        left += 1\n",
    "\n",
    "    return matrix\n",
    "\n",
    "A = 3\n",
    "result = generateMatrix(A)\n",
    "for row in result:\n",
    "    print(row)\n"
   ]
  },
  {
   "cell_type": "code",
   "execution_count": 3,
   "id": "b3b8ebb2",
   "metadata": {},
   "outputs": [
    {
     "data": {
      "text/plain": [
       "3"
      ]
     },
     "execution_count": 3,
     "metadata": {},
     "output_type": "execute_result"
    }
   ],
   "source": [
    "def solve(mat):\n",
    "    n=len(mat)\n",
    "    m=len(mat[0])\n",
    "    i=0\n",
    "    j=m-1\n",
    "    ans=0\n",
    "    while(i<n and i>=0 and j<m and j>=0):\n",
    "        while j>=0 and mat[i][j]==1:\n",
    "            j-=1\n",
    "            ans=i\n",
    "        i+=1\n",
    "\n",
    "    return ans\n",
    "\n",
    "solve([[0,0,1],[0,1,1],[0,1,1],[1,1,1]])\n"
   ]
  },
  {
   "cell_type": "code",
   "execution_count": 3,
   "id": "241c02aa",
   "metadata": {},
   "outputs": [],
   "source": [
    "def solve(M):\n",
    "    \n",
    "    count = 0 \n",
    "    i = 0\n",
    "    j = m - 1 \n",
    "\n",
    "    while j >= 0 and i < n:\n",
    "\n",
    "        if M[i][j] < 0:\n",
    "\n",
    "            count += (j + 1)\n",
    "\n",
    "            i += 1\n",
    "\n",
    "        else:\n",
    "\n",
    "             j -= 1\n",
    "    return count"
   ]
  },
  {
   "cell_type": "markdown",
   "id": "e811101c",
   "metadata": {},
   "source": [
    "## Day_18"
   ]
  },
  {
   "cell_type": "code",
   "execution_count": 38,
   "id": "f4bbd0ef",
   "metadata": {},
   "outputs": [
    {
     "data": {
      "text/plain": [
       "2"
      ]
     },
     "execution_count": 38,
     "metadata": {},
     "output_type": "execute_result"
    }
   ],
   "source": [
    "def solve(A):\n",
    "    n=len(A)\n",
    "    for i in range(n):\n",
    "        if A[i]<=0:\n",
    "            A[i]=n+4\n",
    "        \n",
    "    for i in range(n):\n",
    "        x=abs(A[i])\n",
    "        if 1<=x and x<=n:\n",
    "            idx=x-1\n",
    "            if A[idx]>0:\n",
    "                A[idx]*=-1\n",
    "    \n",
    "    for i in range(n):\n",
    "        if A[i]>0:\n",
    "            return i+1\n",
    "        \n",
    "    return n+1\n",
    "\n",
    "solve([1])"
   ]
  },
  {
   "cell_type": "markdown",
   "id": "06d1f279",
   "metadata": {},
   "source": [
    "## Day_19"
   ]
  },
  {
   "cell_type": "code",
   "execution_count": 10,
   "id": "743c5978",
   "metadata": {},
   "outputs": [],
   "source": [
    "def merge(intervals):\n",
    "        intervals.sort(key=lambda x: x.start)\n",
    "        ans = []\n",
    "        i = 0\n",
    "        while i < len(intervals):\n",
    "            st = intervals[i].start\n",
    "            en = intervals[i].end\n",
    "            if st == -1 or en == -1:\n",
    "                i += 1\n",
    "                continue\n",
    "            while i < len(intervals) - 1 and en >= intervals[i + 1].start:\n",
    "                st = min(st, intervals[i + 1].start)\n",
    "                en = max(en, intervals[i + 1].end)\n",
    "                intervals[i].start = -1\n",
    "                intervals[i].end = -1\n",
    "                i += 1\n",
    "            ans.append(Interval(st, en))\n",
    "            i += 1\n",
    "        return ans\n",
    "        \n"
   ]
  },
  {
   "cell_type": "code",
   "execution_count": 1,
   "id": "39132efb",
   "metadata": {},
   "outputs": [
    {
     "data": {
      "text/plain": [
       "55"
      ]
     },
     "execution_count": 1,
     "metadata": {},
     "output_type": "execute_result"
    }
   ],
   "source": [
    "a=121\n",
    "cnt=0\n",
    "for i in range(1,a+1):\n",
    "    temp=i\n",
    "    while temp>0:\n",
    "        rem=temp%10\n",
    "        if rem==1:\n",
    "            cnt+=1\n",
    "        temp=temp//10\n",
    "        \n",
    "cnt      \n",
    "  \n",
    "        \n",
    "    "
   ]
  },
  {
   "cell_type": "markdown",
   "id": "bd1e6c34",
   "metadata": {},
   "source": [
    "## Day_20"
   ]
  },
  {
   "cell_type": "code",
   "execution_count": 2,
   "id": "8f8998f4",
   "metadata": {},
   "outputs": [
    {
     "data": {
      "text/plain": [
       "1"
      ]
     },
     "execution_count": 2,
     "metadata": {},
     "output_type": "execute_result"
    }
   ],
   "source": [
    "def solve(A,B):\n",
    "    if (A &(1<<B)==0):\n",
    "            return 0\n",
    "    return 1\n",
    "\n",
    "solve(5,2)"
   ]
  },
  {
   "cell_type": "code",
   "execution_count": 6,
   "id": "c94524c1",
   "metadata": {},
   "outputs": [
    {
     "data": {
      "text/plain": [
       "4"
      ]
     },
     "execution_count": 6,
     "metadata": {},
     "output_type": "execute_result"
    }
   ],
   "source": [
    "def solve(A,B):\n",
    "    if (A &(1<<B)==0):\n",
    "            return A\n",
    "    return A^(1<<B)\n",
    "\n",
    "solve(4,1)"
   ]
  },
  {
   "cell_type": "code",
   "execution_count": 18,
   "id": "0edd39bf",
   "metadata": {},
   "outputs": [
    {
     "data": {
      "text/plain": [
       "40"
      ]
     },
     "execution_count": 18,
     "metadata": {},
     "output_type": "execute_result"
    }
   ],
   "source": [
    "def solve(A,B):\n",
    "    num = -1\n",
    "    num = num & ~(1 << A)\n",
    "    num = num & ~(1 << B)\n",
    "    decimal_result = int(bin(num), 2)\n",
    "    \n",
    "    return -(decimal_result+1)\n",
    "\n",
    "solve(3,5)"
   ]
  },
  {
   "cell_type": "code",
   "execution_count": 23,
   "id": "69d8e504",
   "metadata": {},
   "outputs": [
    {
     "data": {
      "text/plain": [
       "[5, 7, 7, 4, 5]"
      ]
     },
     "execution_count": 23,
     "metadata": {},
     "output_type": "execute_result"
    }
   ],
   "source": [
    "pref = [5,2,0,3,1]\n",
    "if len(pref)==1:\n",
    "    print(pref)\n",
    "A=[0]*len(pref)\n",
    "A[0]=pref[0]\n",
    "for i in range(1,len(pref)):\n",
    "    pref[i]=pref[i]^pref[i-1]\n",
    "pref\n",
    "    "
   ]
  },
  {
   "cell_type": "code",
   "execution_count": 27,
   "id": "54d443e4",
   "metadata": {},
   "outputs": [
    {
     "name": "stdout",
     "output_type": "stream",
     "text": [
      "c\n"
     ]
    }
   ],
   "source": [
    "letters = [\"c\",\"f\",\"j\"]\n",
    "target = \"a\"\n",
    "for i in range(ord(target),ord(\"z\")+1):\n",
    "    if chr(i) in letters:\n",
    "        print(chr(i))\n",
    "        break"
   ]
  },
  {
   "cell_type": "code",
   "execution_count": 31,
   "id": "0b6d4e5a",
   "metadata": {},
   "outputs": [
    {
     "data": {
      "text/plain": [
       "'x'"
      ]
     },
     "execution_count": 31,
     "metadata": {},
     "output_type": "execute_result"
    }
   ],
   "source": [
    "def solve(letters,target):\n",
    "    for i in range(ord(target)+1,ord(\"z\")+1):\n",
    "        if chr(i) in letters:\n",
    "            return (chr(i))\n",
    "    return letters[0]\n",
    "solve([\"x\",\"x\",\"y\",\"y\"],\"z\")\n",
    "    "
   ]
  },
  {
   "cell_type": "markdown",
   "id": "d24a5481",
   "metadata": {},
   "source": [
    "##  Day _21 Recusrion"
   ]
  },
  {
   "cell_type": "code",
   "execution_count": 24,
   "id": "526878a4",
   "metadata": {},
   "outputs": [
    {
     "name": "stdout",
     "output_type": "stream",
     "text": [
      "9 8 7 6 5 4 3 2 1 "
     ]
    }
   ],
   "source": [
    "def PrintReverseOrder(N):\n",
    "    if (N <= 0):\n",
    "        return;\n",
    "    else:\n",
    "        print(N,end=\" \")\n",
    "        PrintReverseOrder(N - 1);\n",
    "PrintReverseOrder(9)"
   ]
  },
  {
   "cell_type": "code",
   "execution_count": 25,
   "id": "cbe48d0f",
   "metadata": {},
   "outputs": [
    {
     "name": "stdout",
     "output_type": "stream",
     "text": [
      "9 8 7 6 5 4 3 2 1 "
     ]
    }
   ],
   "source": [
    "def PrintReverseOrder(N):\n",
    "    if (N <= 0):\n",
    "        return;\n",
    "    else:\n",
    "        print(N,end=\" \")\n",
    "        PrintReverseOrder(N - 1);\n",
    "PrintReverseOrder(9)"
   ]
  },
  {
   "cell_type": "code",
   "execution_count": 42,
   "id": "3f795883",
   "metadata": {},
   "outputs": [
    {
     "name": "stdout",
     "output_type": "stream",
     "text": [
      "5\n",
      "6\n",
      "7\n",
      "8\n",
      "9\n",
      "10\n",
      "10\n",
      "9\n",
      "8\n",
      "7\n",
      "6\n",
      "5\n"
     ]
    }
   ],
   "source": [
    "def recurs(num):\n",
    "    print(num)\n",
    "    if num < 10:\n",
    "        recurs(num + 1)\n",
    "    print(num)\n",
    "\n",
    "recurs(5)"
   ]
  },
  {
   "cell_type": "code",
   "execution_count": 35,
   "id": "192806a8",
   "metadata": {},
   "outputs": [
    {
     "name": "stdout",
     "output_type": "stream",
     "text": [
      "5 4 3 2 1 \n"
     ]
    }
   ],
   "source": [
    "def solve(A):\n",
    "    if A > 0:\n",
    "        print(A, end=' ')\n",
    "        solve(A - 1)\n",
    "    else:\n",
    "        print()\n",
    "solve(5)"
   ]
  },
  {
   "cell_type": "code",
   "execution_count": 47,
   "id": "1c614c9e",
   "metadata": {},
   "outputs": [
    {
     "name": "stdout",
     "output_type": "stream",
     "text": [
      "1 2 3 4 5 "
     ]
    }
   ],
   "source": [
    "def print_numbers(A):\n",
    "    if A == 0:\n",
    "        return\n",
    "    print_numbers(A - 1)\n",
    "    print(A, end=\" \")\n",
    "\n",
    "print_numbers(5)\n"
   ]
  },
  {
   "cell_type": "code",
   "execution_count": 2,
   "id": "10e1cf90",
   "metadata": {},
   "outputs": [
    {
     "name": "stdout",
     "output_type": "stream",
     "text": [
      "['((()))', '(()())', '(())()', '()(())', '()()()']\n"
     ]
    }
   ],
   "source": [
    "def generateParenthesis(A):\n",
    "    def generate(p, left, right, parens=[]):\n",
    "        if left:         generate(p + '(', left-1, right)\n",
    "        if right > left: generate(p + ')', left, right-1)\n",
    "        if not right:    parens += p,\n",
    "        return parens\n",
    "    return generate('', A, A)\n",
    "A = 3\n",
    "result = generateParenthesis(A)\n",
    "print(result)\n"
   ]
  },
  {
   "cell_type": "code",
   "execution_count": 5,
   "id": "101da94c",
   "metadata": {},
   "outputs": [
    {
     "name": "stdout",
     "output_type": "stream",
     "text": [
      "[1, 1, 3] [2, 1, 2] [1, 3, 2] [3, 1, 3] [1, 2, 1] [2, 2, 3] [1, 1, 3] [4, 1, 2] [1, 3, 2] [2, 3, 1] [1, 2, 1] [3, 3, 2] [1, 1, 3] [2, 1, 2] [1, 3, 2] [5, 1, 3] [1, 2, 1] [2, 2, 3] [1, 1, 3] [3, 2, 1] [1, 3, 2] [2, 3, 1] [1, 2, 1] [4, 2, 3] [1, 1, 3] [2, 1, 2] [1, 3, 2] [3, 1, 3] [1, 2, 1] [2, 2, 3] [1, 1, 3] "
     ]
    }
   ],
   "source": [
    "def towerOfHanoi(A):\n",
    "    def hanoi(n, source, auxiliary, target, result):\n",
    "        if n == 1:\n",
    "            result.append([n, source, target])\n",
    "            return\n",
    "        hanoi(n - 1, source, target, auxiliary, result)\n",
    "        result.append([n, source, target])\n",
    "        hanoi(n - 1, auxiliary, source, target, result)\n",
    "\n",
    "    result = []\n",
    "    hanoi(A, 1, 2, 3, result)\n",
    "    return result\n",
    "A = 5\n",
    "cnt=0\n",
    "result = towerOfHanoi(A)\n",
    "for move in result:\n",
    "    print(move,end=\" \")\n",
    "\n"
   ]
  },
  {
   "cell_type": "code",
   "execution_count": 29,
   "id": "11eeffba",
   "metadata": {},
   "outputs": [
    {
     "name": "stdout",
     "output_type": "stream",
     "text": [
      "[1, 1]\n",
      "[3, 3]\n"
     ]
    }
   ],
   "source": [
    "def flipToMaximizeOnes(A):\n",
    "        ans = []\n",
    "        n = len(A)\n",
    "        arr = [0] * n\n",
    "        for i in range(n):\n",
    "            if A[i] == '0':\n",
    "                arr[i] = 1\n",
    "            else:\n",
    "                arr[i] = -1\n",
    "        temp_start = 0\n",
    "        temp_end = 0\n",
    "        start = -1\n",
    "        end = -1\n",
    "        move_start = 0\n",
    "        for i in range(n):\n",
    "            if temp_end + arr[i] < 0:\n",
    "                move_start = i + 1\n",
    "                temp_end = 0\n",
    "            else:\n",
    "                temp_end += arr[i]\n",
    "            if temp_end > temp_start:\n",
    "                temp_start = temp_end\n",
    "                start = move_start\n",
    "                end = i\n",
    "        if start == -1:\n",
    "            return ans\n",
    "        ans.append(start + 1)\n",
    "        ans.append(end + 1)\n",
    "        return ans\n",
    "A1 = \"010\"\n",
    "A2 = \"1101\"\n",
    "print(flipToMaximizeOnes(A1)) \n",
    "print(flipToMaximizeOnes(A2))  "
   ]
  },
  {
   "cell_type": "code",
   "execution_count": null,
   "id": "85ad97c9",
   "metadata": {},
   "outputs": [],
   "source": []
  }
 ],
 "metadata": {
  "kernelspec": {
   "display_name": "Python 3 (ipykernel)",
   "language": "python",
   "name": "python3"
  },
  "language_info": {
   "codemirror_mode": {
    "name": "ipython",
    "version": 3
   },
   "file_extension": ".py",
   "mimetype": "text/x-python",
   "name": "python",
   "nbconvert_exporter": "python",
   "pygments_lexer": "ipython3",
   "version": "3.8.8"
  }
 },
 "nbformat": 4,
 "nbformat_minor": 5
}
